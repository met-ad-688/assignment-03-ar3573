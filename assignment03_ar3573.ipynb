{
  "cells": [
    {
      "cell_type": "code",
      "source": [
        "# Fix Plotly ↔ Kaleido mismatch\n",
        "!pip install -U \"plotly>=6.1.1\" \"kaleido>=1.1.0\"\n",
        "\n",
        "import importlib, plotly\n",
        "print(\"Plotly version:\", plotly.__version__)\n",
        "importlib.invalidate_caches()\n"
      ],
      "metadata": {
        "colab": {
          "base_uri": "https://localhost:8080/"
        },
        "id": "SOTCPxzr8iBn",
        "outputId": "606ac35f-e4e2-453f-fb39-532e41264c84"
      },
      "id": "SOTCPxzr8iBn",
      "execution_count": 2,
      "outputs": [
        {
          "output_type": "stream",
          "name": "stdout",
          "text": [
            "Collecting plotly>=6.1.1\n",
            "  Downloading plotly-6.3.0-py3-none-any.whl.metadata (8.5 kB)\n",
            "Requirement already satisfied: kaleido>=1.1.0 in /usr/local/lib/python3.12/dist-packages (1.1.0)\n",
            "Requirement already satisfied: narwhals>=1.15.1 in /usr/local/lib/python3.12/dist-packages (from plotly>=6.1.1) (2.5.0)\n",
            "Requirement already satisfied: packaging in /usr/local/lib/python3.12/dist-packages (from plotly>=6.1.1) (25.0)\n",
            "Requirement already satisfied: choreographer>=1.0.10 in /usr/local/lib/python3.12/dist-packages (from kaleido>=1.1.0) (1.1.1)\n",
            "Requirement already satisfied: logistro>=1.0.8 in /usr/local/lib/python3.12/dist-packages (from kaleido>=1.1.0) (1.1.0)\n",
            "Requirement already satisfied: orjson>=3.10.15 in /usr/local/lib/python3.12/dist-packages (from kaleido>=1.1.0) (3.11.3)\n",
            "Requirement already satisfied: pytest-timeout>=2.4.0 in /usr/local/lib/python3.12/dist-packages (from kaleido>=1.1.0) (2.4.0)\n",
            "Requirement already satisfied: simplejson>=3.19.3 in /usr/local/lib/python3.12/dist-packages (from choreographer>=1.0.10->kaleido>=1.1.0) (3.20.1)\n",
            "Requirement already satisfied: pytest>=7.0.0 in /usr/local/lib/python3.12/dist-packages (from pytest-timeout>=2.4.0->kaleido>=1.1.0) (8.4.2)\n",
            "Requirement already satisfied: iniconfig>=1 in /usr/local/lib/python3.12/dist-packages (from pytest>=7.0.0->pytest-timeout>=2.4.0->kaleido>=1.1.0) (2.1.0)\n",
            "Requirement already satisfied: pluggy<2,>=1.5 in /usr/local/lib/python3.12/dist-packages (from pytest>=7.0.0->pytest-timeout>=2.4.0->kaleido>=1.1.0) (1.6.0)\n",
            "Requirement already satisfied: pygments>=2.7.2 in /usr/local/lib/python3.12/dist-packages (from pytest>=7.0.0->pytest-timeout>=2.4.0->kaleido>=1.1.0) (2.19.2)\n",
            "Downloading plotly-6.3.0-py3-none-any.whl (9.8 MB)\n",
            "\u001b[2K   \u001b[90m━━━━━━━━━━━━━━━━━━━━━━━━━━━━━━━━━━━━━━━━\u001b[0m \u001b[32m9.8/9.8 MB\u001b[0m \u001b[31m47.3 MB/s\u001b[0m eta \u001b[36m0:00:00\u001b[0m\n",
            "\u001b[?25hInstalling collected packages: plotly\n",
            "  Attempting uninstall: plotly\n",
            "    Found existing installation: plotly 5.24.1\n",
            "    Uninstalling plotly-5.24.1:\n",
            "      Successfully uninstalled plotly-5.24.1\n",
            "Successfully installed plotly-6.3.0\n",
            "Plotly version: 6.3.0\n"
          ]
        }
      ]
    },
    {
      "cell_type": "code",
      "source": [
        "# ===== Build & save the chart (pandas + Plotly) =====\n",
        "import os, pandas as pd\n",
        "import plotly.express as px\n",
        "\n",
        "# 1) Make sure the data is present (download if missing)\n",
        "CSV_PATH = \"/content/lightcast_job_postings.csv\"\n",
        "if not os.path.exists(CSV_PATH):\n",
        "    # Big file (~700MB). Uses your earlier Drive id.\n",
        "    # If this fails, upload the CSV via Colab: left sidebar ➜ Files ➜ Upload.\n",
        "    try:\n",
        "        import gdown\n",
        "    except ImportError:\n",
        "        !pip -q install gdown\n",
        "        import gdown\n",
        "\n",
        "    gdown.download(\n",
        "        \"https://drive.google.com/uc?id=1V2GCHGt2dkFGqVBeoUFckU4IhUgk4ocQ\",\n",
        "        CSV_PATH,\n",
        "        quiet=False\n",
        "    )\n",
        "\n",
        "# 2) Load\n",
        "df = pd.read_csv(CSV_PATH, low_memory=False)\n",
        "\n",
        "# 3) Pick/derive a city column robustly\n",
        "candidates = [\n",
        "    \"city\",\"City\",\"job_city\",\"jobCity\",\"job_city_name\",\n",
        "    \"location\",\"Location\",\"job_location\",\"jobLocation\",\"job_posting_location\"\n",
        "]\n",
        "city_col = next((c for c in candidates if c in df.columns), None)\n",
        "\n",
        "def to_city(s):\n",
        "    if pd.isna(s): return None\n",
        "    s = str(s).strip()\n",
        "    if not s: return None\n",
        "    # Common formats: \"City, ST\", \"City, State\", \"Remote - US\", etc.\n",
        "    # Grab the first segment before a comma or \" - \"\n",
        "    for sep in [\",\", \" - \"]:\n",
        "        if sep in s:\n",
        "            s = s.split(sep, 1)[0].strip()\n",
        "    # Normalize a few noisy tokens\n",
        "    if s.lower().startswith(\"remote\"):\n",
        "        return \"Remote\"\n",
        "    return s\n",
        "\n",
        "if city_col is None:\n",
        "    # Derive city from a combined field if needed (best-effort)\n",
        "    # Try to find a column that looks like a location\n",
        "    like_loc = next((c for c in df.columns if \"loc\" in c.lower()), None)\n",
        "    if like_loc:\n",
        "        cities = df[like_loc].map(to_city)\n",
        "    else:\n",
        "        raise ValueError(\n",
        "            \"Couldn't find a city/location column. \"\n",
        "            \"Open df.columns to see what's available and set `city_col`.\"\n",
        "        )\n",
        "else:\n",
        "    cities = df[city_col].map(to_city)\n",
        "\n",
        "# 4) Top 15 cities\n",
        "top15 = (\n",
        "    cities.dropna()\n",
        "    .value_counts()\n",
        "    .head(15)\n",
        "    .rename_axis(\"city\")\n",
        "    .reset_index(name=\"count\")\n",
        ")\n",
        "\n",
        "# 5) Plot\n",
        "fig = px.bar(\n",
        "    top15,\n",
        "    x=\"city\", y=\"count\",\n",
        "    title=\"Top 15 Cities by Job Postings\",\n",
        "    labels={\"city\": \"City\", \"count\": \"Postings\"}\n",
        ")\n",
        "fig.update_layout(xaxis_tickangle=-45)\n",
        "fig.show()\n",
        "\n",
        "# 6) Save (PNG first, fallback HTML)\n",
        "try:\n",
        "    fig.write_image(\"/content/top_15_cities.png\", scale=2)\n",
        "    print(\"Saved PNG to /content/top_15_cities.png\")\n",
        "except Exception as e:\n",
        "    print(\"PNG export failed; saving HTML instead:\", e)\n",
        "    fig.write_html(\"/content/top_15_cities.html\", include_plotlyjs=\"cdn\")\n",
        "    print(\"Saved HTML to /content/top_15_cities.html\")\n"
      ],
      "metadata": {
        "colab": {
          "base_uri": "https://localhost:8080/",
          "height": 733
        },
        "id": "rs1bQxNgJ54e",
        "outputId": "40121b9f-7558-45dd-f55c-b6358a8a634d"
      },
      "id": "rs1bQxNgJ54e",
      "execution_count": 5,
      "outputs": [
        {
          "output_type": "display_data",
          "data": {
            "text/html": [
              "<html>\n",
              "<head><meta charset=\"utf-8\" /></head>\n",
              "<body>\n",
              "    <div>            <script src=\"https://cdnjs.cloudflare.com/ajax/libs/mathjax/2.7.5/MathJax.js?config=TeX-AMS-MML_SVG\"></script><script type=\"text/javascript\">if (window.MathJax && window.MathJax.Hub && window.MathJax.Hub.Config) {window.MathJax.Hub.Config({SVG: {font: \"STIX-Web\"}});}</script>                <script type=\"text/javascript\">window.PlotlyConfig = {MathJaxConfig: 'local'};</script>\n",
              "        <script charset=\"utf-8\" src=\"https://cdn.plot.ly/plotly-3.1.0.min.js\" integrity=\"sha256-Ei4740bWZhaUTQuD6q9yQlgVCMPBz6CZWhevDYPv93A=\" crossorigin=\"anonymous\"></script>                <div id=\"7fa30502-cbc7-44a6-ac11-35107d9271d4\" class=\"plotly-graph-div\" style=\"height:525px; width:100%;\"></div>            <script type=\"text/javascript\">                window.PLOTLYENV=window.PLOTLYENV || {};                                if (document.getElementById(\"7fa30502-cbc7-44a6-ac11-35107d9271d4\")) {                    Plotly.newPlot(                        \"7fa30502-cbc7-44a6-ac11-35107d9271d4\",                        [{\"hovertemplate\":\"City=%{x}\\u003cbr\\u003ePostings=%{y}\\u003cextra\\u003e\\u003c\\u002fextra\\u003e\",\"legendgroup\":\"\",\"marker\":{\"color\":\"#636efa\",\"pattern\":{\"shape\":\"\"}},\"name\":\"\",\"orientation\":\"v\",\"showlegend\":false,\"textposition\":\"auto\",\"x\":[\"{\\n  \\\"lat\\\": 41.8781136\",\"{\\n  \\\"lat\\\": 0\",\"{\\n  \\\"lat\\\": 33.7489954\",\"{\\n  \\\"lat\\\": 40.7127753\",\"{\\n  \\\"lat\\\": 30.267153\",\"{\\n  \\\"lat\\\": 29.7604267\",\"{\\n  \\\"lat\\\": 32.7766642\",\"{\\n  \\\"lat\\\": 35.2270869\",\"{\\n  \\\"lat\\\": 38.9071923\",\"{\\n  \\\"lat\\\": 42.3600825\",\"{\\n  \\\"lat\\\": 37.5407246\",\"{\\n  \\\"lat\\\": 37.7749295\",\"{\\n  \\\"lat\\\": 33.4483771\",\"{\\n  \\\"lat\\\": 34.0522342\",\"{\\n  \\\"lat\\\": 47.6062095\"],\"xaxis\":\"x\",\"y\":{\"dtype\":\"i2\",\"bdata\":\"zQaVBpEG0gWmBXUFJQW4BHgE4QNbA1kD6QKlAnoC\"},\"yaxis\":\"y\",\"type\":\"bar\"}],                        {\"template\":{\"data\":{\"histogram2dcontour\":[{\"type\":\"histogram2dcontour\",\"colorbar\":{\"outlinewidth\":0,\"ticks\":\"\"},\"colorscale\":[[0.0,\"#0d0887\"],[0.1111111111111111,\"#46039f\"],[0.2222222222222222,\"#7201a8\"],[0.3333333333333333,\"#9c179e\"],[0.4444444444444444,\"#bd3786\"],[0.5555555555555556,\"#d8576b\"],[0.6666666666666666,\"#ed7953\"],[0.7777777777777778,\"#fb9f3a\"],[0.8888888888888888,\"#fdca26\"],[1.0,\"#f0f921\"]]}],\"choropleth\":[{\"type\":\"choropleth\",\"colorbar\":{\"outlinewidth\":0,\"ticks\":\"\"}}],\"histogram2d\":[{\"type\":\"histogram2d\",\"colorbar\":{\"outlinewidth\":0,\"ticks\":\"\"},\"colorscale\":[[0.0,\"#0d0887\"],[0.1111111111111111,\"#46039f\"],[0.2222222222222222,\"#7201a8\"],[0.3333333333333333,\"#9c179e\"],[0.4444444444444444,\"#bd3786\"],[0.5555555555555556,\"#d8576b\"],[0.6666666666666666,\"#ed7953\"],[0.7777777777777778,\"#fb9f3a\"],[0.8888888888888888,\"#fdca26\"],[1.0,\"#f0f921\"]]}],\"heatmap\":[{\"type\":\"heatmap\",\"colorbar\":{\"outlinewidth\":0,\"ticks\":\"\"},\"colorscale\":[[0.0,\"#0d0887\"],[0.1111111111111111,\"#46039f\"],[0.2222222222222222,\"#7201a8\"],[0.3333333333333333,\"#9c179e\"],[0.4444444444444444,\"#bd3786\"],[0.5555555555555556,\"#d8576b\"],[0.6666666666666666,\"#ed7953\"],[0.7777777777777778,\"#fb9f3a\"],[0.8888888888888888,\"#fdca26\"],[1.0,\"#f0f921\"]]}],\"contourcarpet\":[{\"type\":\"contourcarpet\",\"colorbar\":{\"outlinewidth\":0,\"ticks\":\"\"}}],\"contour\":[{\"type\":\"contour\",\"colorbar\":{\"outlinewidth\":0,\"ticks\":\"\"},\"colorscale\":[[0.0,\"#0d0887\"],[0.1111111111111111,\"#46039f\"],[0.2222222222222222,\"#7201a8\"],[0.3333333333333333,\"#9c179e\"],[0.4444444444444444,\"#bd3786\"],[0.5555555555555556,\"#d8576b\"],[0.6666666666666666,\"#ed7953\"],[0.7777777777777778,\"#fb9f3a\"],[0.8888888888888888,\"#fdca26\"],[1.0,\"#f0f921\"]]}],\"surface\":[{\"type\":\"surface\",\"colorbar\":{\"outlinewidth\":0,\"ticks\":\"\"},\"colorscale\":[[0.0,\"#0d0887\"],[0.1111111111111111,\"#46039f\"],[0.2222222222222222,\"#7201a8\"],[0.3333333333333333,\"#9c179e\"],[0.4444444444444444,\"#bd3786\"],[0.5555555555555556,\"#d8576b\"],[0.6666666666666666,\"#ed7953\"],[0.7777777777777778,\"#fb9f3a\"],[0.8888888888888888,\"#fdca26\"],[1.0,\"#f0f921\"]]}],\"mesh3d\":[{\"type\":\"mesh3d\",\"colorbar\":{\"outlinewidth\":0,\"ticks\":\"\"}}],\"scatter\":[{\"fillpattern\":{\"fillmode\":\"overlay\",\"size\":10,\"solidity\":0.2},\"type\":\"scatter\"}],\"parcoords\":[{\"type\":\"parcoords\",\"line\":{\"colorbar\":{\"outlinewidth\":0,\"ticks\":\"\"}}}],\"scatterpolargl\":[{\"type\":\"scatterpolargl\",\"marker\":{\"colorbar\":{\"outlinewidth\":0,\"ticks\":\"\"}}}],\"bar\":[{\"error_x\":{\"color\":\"#2a3f5f\"},\"error_y\":{\"color\":\"#2a3f5f\"},\"marker\":{\"line\":{\"color\":\"#E5ECF6\",\"width\":0.5},\"pattern\":{\"fillmode\":\"overlay\",\"size\":10,\"solidity\":0.2}},\"type\":\"bar\"}],\"scattergeo\":[{\"type\":\"scattergeo\",\"marker\":{\"colorbar\":{\"outlinewidth\":0,\"ticks\":\"\"}}}],\"scatterpolar\":[{\"type\":\"scatterpolar\",\"marker\":{\"colorbar\":{\"outlinewidth\":0,\"ticks\":\"\"}}}],\"histogram\":[{\"marker\":{\"pattern\":{\"fillmode\":\"overlay\",\"size\":10,\"solidity\":0.2}},\"type\":\"histogram\"}],\"scattergl\":[{\"type\":\"scattergl\",\"marker\":{\"colorbar\":{\"outlinewidth\":0,\"ticks\":\"\"}}}],\"scatter3d\":[{\"type\":\"scatter3d\",\"line\":{\"colorbar\":{\"outlinewidth\":0,\"ticks\":\"\"}},\"marker\":{\"colorbar\":{\"outlinewidth\":0,\"ticks\":\"\"}}}],\"scattermap\":[{\"type\":\"scattermap\",\"marker\":{\"colorbar\":{\"outlinewidth\":0,\"ticks\":\"\"}}}],\"scattermapbox\":[{\"type\":\"scattermapbox\",\"marker\":{\"colorbar\":{\"outlinewidth\":0,\"ticks\":\"\"}}}],\"scatterternary\":[{\"type\":\"scatterternary\",\"marker\":{\"colorbar\":{\"outlinewidth\":0,\"ticks\":\"\"}}}],\"scattercarpet\":[{\"type\":\"scattercarpet\",\"marker\":{\"colorbar\":{\"outlinewidth\":0,\"ticks\":\"\"}}}],\"carpet\":[{\"aaxis\":{\"endlinecolor\":\"#2a3f5f\",\"gridcolor\":\"white\",\"linecolor\":\"white\",\"minorgridcolor\":\"white\",\"startlinecolor\":\"#2a3f5f\"},\"baxis\":{\"endlinecolor\":\"#2a3f5f\",\"gridcolor\":\"white\",\"linecolor\":\"white\",\"minorgridcolor\":\"white\",\"startlinecolor\":\"#2a3f5f\"},\"type\":\"carpet\"}],\"table\":[{\"cells\":{\"fill\":{\"color\":\"#EBF0F8\"},\"line\":{\"color\":\"white\"}},\"header\":{\"fill\":{\"color\":\"#C8D4E3\"},\"line\":{\"color\":\"white\"}},\"type\":\"table\"}],\"barpolar\":[{\"marker\":{\"line\":{\"color\":\"#E5ECF6\",\"width\":0.5},\"pattern\":{\"fillmode\":\"overlay\",\"size\":10,\"solidity\":0.2}},\"type\":\"barpolar\"}],\"pie\":[{\"automargin\":true,\"type\":\"pie\"}]},\"layout\":{\"autotypenumbers\":\"strict\",\"colorway\":[\"#636efa\",\"#EF553B\",\"#00cc96\",\"#ab63fa\",\"#FFA15A\",\"#19d3f3\",\"#FF6692\",\"#B6E880\",\"#FF97FF\",\"#FECB52\"],\"font\":{\"color\":\"#2a3f5f\"},\"hovermode\":\"closest\",\"hoverlabel\":{\"align\":\"left\"},\"paper_bgcolor\":\"white\",\"plot_bgcolor\":\"#E5ECF6\",\"polar\":{\"bgcolor\":\"#E5ECF6\",\"angularaxis\":{\"gridcolor\":\"white\",\"linecolor\":\"white\",\"ticks\":\"\"},\"radialaxis\":{\"gridcolor\":\"white\",\"linecolor\":\"white\",\"ticks\":\"\"}},\"ternary\":{\"bgcolor\":\"#E5ECF6\",\"aaxis\":{\"gridcolor\":\"white\",\"linecolor\":\"white\",\"ticks\":\"\"},\"baxis\":{\"gridcolor\":\"white\",\"linecolor\":\"white\",\"ticks\":\"\"},\"caxis\":{\"gridcolor\":\"white\",\"linecolor\":\"white\",\"ticks\":\"\"}},\"coloraxis\":{\"colorbar\":{\"outlinewidth\":0,\"ticks\":\"\"}},\"colorscale\":{\"sequential\":[[0.0,\"#0d0887\"],[0.1111111111111111,\"#46039f\"],[0.2222222222222222,\"#7201a8\"],[0.3333333333333333,\"#9c179e\"],[0.4444444444444444,\"#bd3786\"],[0.5555555555555556,\"#d8576b\"],[0.6666666666666666,\"#ed7953\"],[0.7777777777777778,\"#fb9f3a\"],[0.8888888888888888,\"#fdca26\"],[1.0,\"#f0f921\"]],\"sequentialminus\":[[0.0,\"#0d0887\"],[0.1111111111111111,\"#46039f\"],[0.2222222222222222,\"#7201a8\"],[0.3333333333333333,\"#9c179e\"],[0.4444444444444444,\"#bd3786\"],[0.5555555555555556,\"#d8576b\"],[0.6666666666666666,\"#ed7953\"],[0.7777777777777778,\"#fb9f3a\"],[0.8888888888888888,\"#fdca26\"],[1.0,\"#f0f921\"]],\"diverging\":[[0,\"#8e0152\"],[0.1,\"#c51b7d\"],[0.2,\"#de77ae\"],[0.3,\"#f1b6da\"],[0.4,\"#fde0ef\"],[0.5,\"#f7f7f7\"],[0.6,\"#e6f5d0\"],[0.7,\"#b8e186\"],[0.8,\"#7fbc41\"],[0.9,\"#4d9221\"],[1,\"#276419\"]]},\"xaxis\":{\"gridcolor\":\"white\",\"linecolor\":\"white\",\"ticks\":\"\",\"title\":{\"standoff\":15},\"zerolinecolor\":\"white\",\"automargin\":true,\"zerolinewidth\":2},\"yaxis\":{\"gridcolor\":\"white\",\"linecolor\":\"white\",\"ticks\":\"\",\"title\":{\"standoff\":15},\"zerolinecolor\":\"white\",\"automargin\":true,\"zerolinewidth\":2},\"scene\":{\"xaxis\":{\"backgroundcolor\":\"#E5ECF6\",\"gridcolor\":\"white\",\"linecolor\":\"white\",\"showbackground\":true,\"ticks\":\"\",\"zerolinecolor\":\"white\",\"gridwidth\":2},\"yaxis\":{\"backgroundcolor\":\"#E5ECF6\",\"gridcolor\":\"white\",\"linecolor\":\"white\",\"showbackground\":true,\"ticks\":\"\",\"zerolinecolor\":\"white\",\"gridwidth\":2},\"zaxis\":{\"backgroundcolor\":\"#E5ECF6\",\"gridcolor\":\"white\",\"linecolor\":\"white\",\"showbackground\":true,\"ticks\":\"\",\"zerolinecolor\":\"white\",\"gridwidth\":2}},\"shapedefaults\":{\"line\":{\"color\":\"#2a3f5f\"}},\"annotationdefaults\":{\"arrowcolor\":\"#2a3f5f\",\"arrowhead\":0,\"arrowwidth\":1},\"geo\":{\"bgcolor\":\"white\",\"landcolor\":\"#E5ECF6\",\"subunitcolor\":\"white\",\"showland\":true,\"showlakes\":true,\"lakecolor\":\"white\"},\"title\":{\"x\":0.05},\"mapbox\":{\"style\":\"light\"}}},\"xaxis\":{\"anchor\":\"y\",\"domain\":[0.0,1.0],\"title\":{\"text\":\"City\"},\"tickangle\":-45},\"yaxis\":{\"anchor\":\"x\",\"domain\":[0.0,1.0],\"title\":{\"text\":\"Postings\"}},\"legend\":{\"tracegroupgap\":0},\"title\":{\"text\":\"Top 15 Cities by Job Postings\"},\"barmode\":\"relative\"},                        {\"responsive\": true}                    ).then(function(){\n",
              "                            \n",
              "var gd = document.getElementById('7fa30502-cbc7-44a6-ac11-35107d9271d4');\n",
              "var x = new MutationObserver(function (mutations, observer) {{\n",
              "        var display = window.getComputedStyle(gd).display;\n",
              "        if (!display || display === 'none') {{\n",
              "            console.log([gd, 'removed!']);\n",
              "            Plotly.purge(gd);\n",
              "            observer.disconnect();\n",
              "        }}\n",
              "}});\n",
              "\n",
              "// Listen for the removal of the full notebook cells\n",
              "var notebookContainer = gd.closest('#notebook-container');\n",
              "if (notebookContainer) {{\n",
              "    x.observe(notebookContainer, {childList: true});\n",
              "}}\n",
              "\n",
              "// Listen for the clearing of the current output cell\n",
              "var outputEl = gd.closest('.output');\n",
              "if (outputEl) {{\n",
              "    x.observe(outputEl, {childList: true});\n",
              "}}\n",
              "\n",
              "                        })                };            </script>        </div>\n",
              "</body>\n",
              "</html>"
            ]
          },
          "metadata": {}
        },
        {
          "output_type": "stream",
          "name": "stdout",
          "text": [
            "PNG export failed; saving HTML instead: \n",
            "\n",
            "Kaleido requires Google Chrome to be installed.\n",
            "\n",
            "Either download and install Chrome yourself following Google's instructions for your operating system,\n",
            "or install it from your terminal by running:\n",
            "\n",
            "    $ plotly_get_chrome\n",
            "\n",
            "\n",
            "Saved HTML to /content/top_15_cities.html\n"
          ]
        }
      ]
    },
    {
      "cell_type": "code",
      "source": [
        "# ===== Prettier Top-15 Cities chart =====\n",
        "import pandas as pd\n",
        "import plotly.express as px\n",
        "\n",
        "# --- 1) Clean + prepare counts (re-usable even if you already computed earlier) ---\n",
        "def to_city(s):\n",
        "    if pd.isna(s): return None\n",
        "    s = str(s).strip()\n",
        "    if not s: return None\n",
        "    for sep in [\",\", \" - \"]:\n",
        "        if sep in s:\n",
        "            s = s.split(sep, 1)[0].strip()\n",
        "    if s.lower().startswith(\"remote\"):\n",
        "        return \"Remote\"\n",
        "    return s\n",
        "\n",
        "# Try to pick a best city column automatically\n",
        "candidates = [\n",
        "    \"city\",\"City\",\"job_city\",\"jobCity\",\"job_city_name\",\n",
        "    \"location\",\"Location\",\"job_location\",\"jobLocation\",\"job_posting_location\"\n",
        "]\n",
        "city_col = next((c for c in candidates if c in df.columns), None)\n",
        "if city_col is None:\n",
        "    # last resort: guess a location-like column\n",
        "    like_loc = next((c for c in df.columns if \"loc\" in c.lower()), None)\n",
        "    if like_loc is None:\n",
        "        raise ValueError(\"No city/location column found. Inspect df.columns and set one explicitly.\")\n",
        "    city_series = df[like_loc].map(to_city)\n",
        "else:\n",
        "    city_series = df[city_col].map(to_city)\n",
        "\n",
        "# Drop junk rows and (optionally) remove Remote/Unknown to make the chart cleaner\n",
        "drop_values = {\"Remote\", \"Unknown\", \"N/A\", \"NaN\", \"\"}\n",
        "city_series = city_series.dropna().map(lambda x: x.strip())\n",
        "city_series = city_series[~city_series.isin(drop_values)]\n",
        "\n",
        "# Build top 15 table\n",
        "top15 = (\n",
        "    city_series.value_counts()\n",
        "    .head(15)\n",
        "    .rename_axis(\"city\")\n",
        "    .reset_index(name=\"count\")\n",
        ")\n",
        "\n",
        "# If nothing left, keep Remote in so the chart isn't empty\n",
        "if top15.empty:\n",
        "    top15 = (\n",
        "        city_series.fillna(\"Unknown\")\n",
        "        .value_counts()\n",
        "        .head(15)\n",
        "        .rename_axis(\"city\")\n",
        "        .reset_index(name=\"count\")\n",
        "    )\n",
        "\n",
        "# Shorten super-long city labels (keeps the start; shows …)\n",
        "def shorten(label, max_len=20):\n",
        "    label = str(label)\n",
        "    return label if len(label) <= max_len else (label[:max_len-1] + \"…\")\n",
        "\n",
        "top15[\"city_short\"] = top15[\"city\"].map(shorten)\n",
        "\n",
        "# --- 2) Make a clean, readable horizontal bar chart ---\n",
        "fig = px.bar(\n",
        "    top15.sort_values(\"count\", ascending=True),  # smallest to largest so big bars end on the right\n",
        "    x=\"count\",\n",
        "    y=\"city_short\",\n",
        "    orientation=\"h\",\n",
        "    title=\"Top 15 Cities by Job Postings\",\n",
        "    labels={\"count\": \"Postings\", \"city_short\": \"City\"},\n",
        "    template=\"plotly_white\",\n",
        ")\n",
        "\n",
        "# nicer number formatting + bar labels\n",
        "fig.update_traces(\n",
        "    text=top15.sort_values(\"count\", ascending=True)[\"count\"].map(lambda n: f\"{n:,}\"),\n",
        "    textposition=\"outside\",\n",
        "    hovertemplate=\"<b>%{y}</b><br>Postings: %{x:,}<extra></extra>\",\n",
        "    marker_line_color=\"rgba(0,0,0,0.15)\",\n",
        "    marker_line_width=1,\n",
        ")\n",
        "\n",
        "# layout polish\n",
        "fig.update_layout(\n",
        "    title_font=dict(size=22, family=\"Arial, sans-serif\"),\n",
        "    font=dict(size=13),\n",
        "    xaxis=dict(title=\"Postings\", tickformat=\",\", showline=True, linecolor=\"rgba(0,0,0,0.25)\"),\n",
        "    yaxis=dict(title=\"\", showline=False),\n",
        "    margin=dict(l=10, r=20, t=60, b=10),\n",
        "    height=520,\n",
        ")\n",
        "\n",
        "fig.show()\n",
        "\n",
        "# --- 3) Save to files (PNG + HTML fallback) ---\n",
        "try:\n",
        "    fig.write_image(\"/content/top_15_cities_pretty.png\", scale=2)\n",
        "    print(\"Saved PNG ➜ /content/top_15_cities_pretty.png\")\n",
        "except Exception as e:\n",
        "    print(\"PNG export failed; saving HTML instead:\", e)\n",
        "    fig.write_html(\"/content/top_15_cities_pretty.html\", include_plotlyjs=\"cdn\")\n",
        "    print(\"Saved HTML ➜ /content/top_15_cities_pretty.html\")\n"
      ],
      "metadata": {
        "colab": {
          "base_uri": "https://localhost:8080/",
          "height": 728
        },
        "id": "r1bo6U3qKLX3",
        "outputId": "43c47352-80a0-4b2e-ede6-2df6e624fdc4"
      },
      "id": "r1bo6U3qKLX3",
      "execution_count": 6,
      "outputs": [
        {
          "output_type": "display_data",
          "data": {
            "text/html": [
              "<html>\n",
              "<head><meta charset=\"utf-8\" /></head>\n",
              "<body>\n",
              "    <div>            <script src=\"https://cdnjs.cloudflare.com/ajax/libs/mathjax/2.7.5/MathJax.js?config=TeX-AMS-MML_SVG\"></script><script type=\"text/javascript\">if (window.MathJax && window.MathJax.Hub && window.MathJax.Hub.Config) {window.MathJax.Hub.Config({SVG: {font: \"STIX-Web\"}});}</script>                <script type=\"text/javascript\">window.PlotlyConfig = {MathJaxConfig: 'local'};</script>\n",
              "        <script charset=\"utf-8\" src=\"https://cdn.plot.ly/plotly-3.1.0.min.js\" integrity=\"sha256-Ei4740bWZhaUTQuD6q9yQlgVCMPBz6CZWhevDYPv93A=\" crossorigin=\"anonymous\"></script>                <div id=\"b16eb2a6-940a-4f5f-bff4-dfe805fd231f\" class=\"plotly-graph-div\" style=\"height:520px; width:100%;\"></div>            <script type=\"text/javascript\">                window.PLOTLYENV=window.PLOTLYENV || {};                                if (document.getElementById(\"b16eb2a6-940a-4f5f-bff4-dfe805fd231f\")) {                    Plotly.newPlot(                        \"b16eb2a6-940a-4f5f-bff4-dfe805fd231f\",                        [{\"hovertemplate\":\"\\u003cb\\u003e%{y}\\u003c\\u002fb\\u003e\\u003cbr\\u003ePostings: %{x:,}\\u003cextra\\u003e\\u003c\\u002fextra\\u003e\",\"legendgroup\":\"\",\"marker\":{\"color\":\"#636efa\",\"pattern\":{\"shape\":\"\"},\"line\":{\"color\":\"rgba(0,0,0,0.15)\",\"width\":1}},\"name\":\"\",\"orientation\":\"h\",\"showlegend\":false,\"textposition\":\"outside\",\"x\":{\"dtype\":\"i2\",\"bdata\":\"egKlAukCWQNbA+EDeAS4BCUFdQWmBdIFkQaVBs0G\"},\"xaxis\":\"x\",\"y\":[\"{\\n  \\\"lat\\\": 47.60620…\",\"{\\n  \\\"lat\\\": 34.05223…\",\"{\\n  \\\"lat\\\": 33.44837…\",\"{\\n  \\\"lat\\\": 37.77492…\",\"{\\n  \\\"lat\\\": 37.54072…\",\"{\\n  \\\"lat\\\": 42.36008…\",\"{\\n  \\\"lat\\\": 38.90719…\",\"{\\n  \\\"lat\\\": 35.22708…\",\"{\\n  \\\"lat\\\": 32.77666…\",\"{\\n  \\\"lat\\\": 29.76042…\",\"{\\n  \\\"lat\\\": 30.267153\",\"{\\n  \\\"lat\\\": 40.71277…\",\"{\\n  \\\"lat\\\": 33.74899…\",\"{\\n  \\\"lat\\\": 0\",\"{\\n  \\\"lat\\\": 41.87811…\"],\"yaxis\":\"y\",\"type\":\"bar\",\"text\":[\"634\",\"677\",\"745\",\"857\",\"859\",\"993\",\"1,144\",\"1,208\",\"1,317\",\"1,397\",\"1,446\",\"1,490\",\"1,681\",\"1,685\",\"1,741\"]}],                        {\"template\":{\"data\":{\"barpolar\":[{\"marker\":{\"line\":{\"color\":\"white\",\"width\":0.5},\"pattern\":{\"fillmode\":\"overlay\",\"size\":10,\"solidity\":0.2}},\"type\":\"barpolar\"}],\"bar\":[{\"error_x\":{\"color\":\"#2a3f5f\"},\"error_y\":{\"color\":\"#2a3f5f\"},\"marker\":{\"line\":{\"color\":\"white\",\"width\":0.5},\"pattern\":{\"fillmode\":\"overlay\",\"size\":10,\"solidity\":0.2}},\"type\":\"bar\"}],\"carpet\":[{\"aaxis\":{\"endlinecolor\":\"#2a3f5f\",\"gridcolor\":\"#C8D4E3\",\"linecolor\":\"#C8D4E3\",\"minorgridcolor\":\"#C8D4E3\",\"startlinecolor\":\"#2a3f5f\"},\"baxis\":{\"endlinecolor\":\"#2a3f5f\",\"gridcolor\":\"#C8D4E3\",\"linecolor\":\"#C8D4E3\",\"minorgridcolor\":\"#C8D4E3\",\"startlinecolor\":\"#2a3f5f\"},\"type\":\"carpet\"}],\"choropleth\":[{\"colorbar\":{\"outlinewidth\":0,\"ticks\":\"\"},\"type\":\"choropleth\"}],\"contourcarpet\":[{\"colorbar\":{\"outlinewidth\":0,\"ticks\":\"\"},\"type\":\"contourcarpet\"}],\"contour\":[{\"colorbar\":{\"outlinewidth\":0,\"ticks\":\"\"},\"colorscale\":[[0.0,\"#0d0887\"],[0.1111111111111111,\"#46039f\"],[0.2222222222222222,\"#7201a8\"],[0.3333333333333333,\"#9c179e\"],[0.4444444444444444,\"#bd3786\"],[0.5555555555555556,\"#d8576b\"],[0.6666666666666666,\"#ed7953\"],[0.7777777777777778,\"#fb9f3a\"],[0.8888888888888888,\"#fdca26\"],[1.0,\"#f0f921\"]],\"type\":\"contour\"}],\"heatmap\":[{\"colorbar\":{\"outlinewidth\":0,\"ticks\":\"\"},\"colorscale\":[[0.0,\"#0d0887\"],[0.1111111111111111,\"#46039f\"],[0.2222222222222222,\"#7201a8\"],[0.3333333333333333,\"#9c179e\"],[0.4444444444444444,\"#bd3786\"],[0.5555555555555556,\"#d8576b\"],[0.6666666666666666,\"#ed7953\"],[0.7777777777777778,\"#fb9f3a\"],[0.8888888888888888,\"#fdca26\"],[1.0,\"#f0f921\"]],\"type\":\"heatmap\"}],\"histogram2dcontour\":[{\"colorbar\":{\"outlinewidth\":0,\"ticks\":\"\"},\"colorscale\":[[0.0,\"#0d0887\"],[0.1111111111111111,\"#46039f\"],[0.2222222222222222,\"#7201a8\"],[0.3333333333333333,\"#9c179e\"],[0.4444444444444444,\"#bd3786\"],[0.5555555555555556,\"#d8576b\"],[0.6666666666666666,\"#ed7953\"],[0.7777777777777778,\"#fb9f3a\"],[0.8888888888888888,\"#fdca26\"],[1.0,\"#f0f921\"]],\"type\":\"histogram2dcontour\"}],\"histogram2d\":[{\"colorbar\":{\"outlinewidth\":0,\"ticks\":\"\"},\"colorscale\":[[0.0,\"#0d0887\"],[0.1111111111111111,\"#46039f\"],[0.2222222222222222,\"#7201a8\"],[0.3333333333333333,\"#9c179e\"],[0.4444444444444444,\"#bd3786\"],[0.5555555555555556,\"#d8576b\"],[0.6666666666666666,\"#ed7953\"],[0.7777777777777778,\"#fb9f3a\"],[0.8888888888888888,\"#fdca26\"],[1.0,\"#f0f921\"]],\"type\":\"histogram2d\"}],\"histogram\":[{\"marker\":{\"pattern\":{\"fillmode\":\"overlay\",\"size\":10,\"solidity\":0.2}},\"type\":\"histogram\"}],\"mesh3d\":[{\"colorbar\":{\"outlinewidth\":0,\"ticks\":\"\"},\"type\":\"mesh3d\"}],\"parcoords\":[{\"line\":{\"colorbar\":{\"outlinewidth\":0,\"ticks\":\"\"}},\"type\":\"parcoords\"}],\"pie\":[{\"automargin\":true,\"type\":\"pie\"}],\"scatter3d\":[{\"line\":{\"colorbar\":{\"outlinewidth\":0,\"ticks\":\"\"}},\"marker\":{\"colorbar\":{\"outlinewidth\":0,\"ticks\":\"\"}},\"type\":\"scatter3d\"}],\"scattercarpet\":[{\"marker\":{\"colorbar\":{\"outlinewidth\":0,\"ticks\":\"\"}},\"type\":\"scattercarpet\"}],\"scattergeo\":[{\"marker\":{\"colorbar\":{\"outlinewidth\":0,\"ticks\":\"\"}},\"type\":\"scattergeo\"}],\"scattergl\":[{\"marker\":{\"colorbar\":{\"outlinewidth\":0,\"ticks\":\"\"}},\"type\":\"scattergl\"}],\"scattermapbox\":[{\"marker\":{\"colorbar\":{\"outlinewidth\":0,\"ticks\":\"\"}},\"type\":\"scattermapbox\"}],\"scattermap\":[{\"marker\":{\"colorbar\":{\"outlinewidth\":0,\"ticks\":\"\"}},\"type\":\"scattermap\"}],\"scatterpolargl\":[{\"marker\":{\"colorbar\":{\"outlinewidth\":0,\"ticks\":\"\"}},\"type\":\"scatterpolargl\"}],\"scatterpolar\":[{\"marker\":{\"colorbar\":{\"outlinewidth\":0,\"ticks\":\"\"}},\"type\":\"scatterpolar\"}],\"scatter\":[{\"fillpattern\":{\"fillmode\":\"overlay\",\"size\":10,\"solidity\":0.2},\"type\":\"scatter\"}],\"scatterternary\":[{\"marker\":{\"colorbar\":{\"outlinewidth\":0,\"ticks\":\"\"}},\"type\":\"scatterternary\"}],\"surface\":[{\"colorbar\":{\"outlinewidth\":0,\"ticks\":\"\"},\"colorscale\":[[0.0,\"#0d0887\"],[0.1111111111111111,\"#46039f\"],[0.2222222222222222,\"#7201a8\"],[0.3333333333333333,\"#9c179e\"],[0.4444444444444444,\"#bd3786\"],[0.5555555555555556,\"#d8576b\"],[0.6666666666666666,\"#ed7953\"],[0.7777777777777778,\"#fb9f3a\"],[0.8888888888888888,\"#fdca26\"],[1.0,\"#f0f921\"]],\"type\":\"surface\"}],\"table\":[{\"cells\":{\"fill\":{\"color\":\"#EBF0F8\"},\"line\":{\"color\":\"white\"}},\"header\":{\"fill\":{\"color\":\"#C8D4E3\"},\"line\":{\"color\":\"white\"}},\"type\":\"table\"}]},\"layout\":{\"annotationdefaults\":{\"arrowcolor\":\"#2a3f5f\",\"arrowhead\":0,\"arrowwidth\":1},\"autotypenumbers\":\"strict\",\"coloraxis\":{\"colorbar\":{\"outlinewidth\":0,\"ticks\":\"\"}},\"colorscale\":{\"diverging\":[[0,\"#8e0152\"],[0.1,\"#c51b7d\"],[0.2,\"#de77ae\"],[0.3,\"#f1b6da\"],[0.4,\"#fde0ef\"],[0.5,\"#f7f7f7\"],[0.6,\"#e6f5d0\"],[0.7,\"#b8e186\"],[0.8,\"#7fbc41\"],[0.9,\"#4d9221\"],[1,\"#276419\"]],\"sequential\":[[0.0,\"#0d0887\"],[0.1111111111111111,\"#46039f\"],[0.2222222222222222,\"#7201a8\"],[0.3333333333333333,\"#9c179e\"],[0.4444444444444444,\"#bd3786\"],[0.5555555555555556,\"#d8576b\"],[0.6666666666666666,\"#ed7953\"],[0.7777777777777778,\"#fb9f3a\"],[0.8888888888888888,\"#fdca26\"],[1.0,\"#f0f921\"]],\"sequentialminus\":[[0.0,\"#0d0887\"],[0.1111111111111111,\"#46039f\"],[0.2222222222222222,\"#7201a8\"],[0.3333333333333333,\"#9c179e\"],[0.4444444444444444,\"#bd3786\"],[0.5555555555555556,\"#d8576b\"],[0.6666666666666666,\"#ed7953\"],[0.7777777777777778,\"#fb9f3a\"],[0.8888888888888888,\"#fdca26\"],[1.0,\"#f0f921\"]]},\"colorway\":[\"#636efa\",\"#EF553B\",\"#00cc96\",\"#ab63fa\",\"#FFA15A\",\"#19d3f3\",\"#FF6692\",\"#B6E880\",\"#FF97FF\",\"#FECB52\"],\"font\":{\"color\":\"#2a3f5f\"},\"geo\":{\"bgcolor\":\"white\",\"lakecolor\":\"white\",\"landcolor\":\"white\",\"showlakes\":true,\"showland\":true,\"subunitcolor\":\"#C8D4E3\"},\"hoverlabel\":{\"align\":\"left\"},\"hovermode\":\"closest\",\"mapbox\":{\"style\":\"light\"},\"paper_bgcolor\":\"white\",\"plot_bgcolor\":\"white\",\"polar\":{\"angularaxis\":{\"gridcolor\":\"#EBF0F8\",\"linecolor\":\"#EBF0F8\",\"ticks\":\"\"},\"bgcolor\":\"white\",\"radialaxis\":{\"gridcolor\":\"#EBF0F8\",\"linecolor\":\"#EBF0F8\",\"ticks\":\"\"}},\"scene\":{\"xaxis\":{\"backgroundcolor\":\"white\",\"gridcolor\":\"#DFE8F3\",\"gridwidth\":2,\"linecolor\":\"#EBF0F8\",\"showbackground\":true,\"ticks\":\"\",\"zerolinecolor\":\"#EBF0F8\"},\"yaxis\":{\"backgroundcolor\":\"white\",\"gridcolor\":\"#DFE8F3\",\"gridwidth\":2,\"linecolor\":\"#EBF0F8\",\"showbackground\":true,\"ticks\":\"\",\"zerolinecolor\":\"#EBF0F8\"},\"zaxis\":{\"backgroundcolor\":\"white\",\"gridcolor\":\"#DFE8F3\",\"gridwidth\":2,\"linecolor\":\"#EBF0F8\",\"showbackground\":true,\"ticks\":\"\",\"zerolinecolor\":\"#EBF0F8\"}},\"shapedefaults\":{\"line\":{\"color\":\"#2a3f5f\"}},\"ternary\":{\"aaxis\":{\"gridcolor\":\"#DFE8F3\",\"linecolor\":\"#A2B1C6\",\"ticks\":\"\"},\"baxis\":{\"gridcolor\":\"#DFE8F3\",\"linecolor\":\"#A2B1C6\",\"ticks\":\"\"},\"bgcolor\":\"white\",\"caxis\":{\"gridcolor\":\"#DFE8F3\",\"linecolor\":\"#A2B1C6\",\"ticks\":\"\"}},\"title\":{\"x\":0.05},\"xaxis\":{\"automargin\":true,\"gridcolor\":\"#EBF0F8\",\"linecolor\":\"#EBF0F8\",\"ticks\":\"\",\"title\":{\"standoff\":15},\"zerolinecolor\":\"#EBF0F8\",\"zerolinewidth\":2},\"yaxis\":{\"automargin\":true,\"gridcolor\":\"#EBF0F8\",\"linecolor\":\"#EBF0F8\",\"ticks\":\"\",\"title\":{\"standoff\":15},\"zerolinecolor\":\"#EBF0F8\",\"zerolinewidth\":2}}},\"xaxis\":{\"anchor\":\"y\",\"domain\":[0.0,1.0],\"title\":{\"text\":\"Postings\"},\"tickformat\":\",\",\"showline\":true,\"linecolor\":\"rgba(0,0,0,0.25)\"},\"yaxis\":{\"anchor\":\"x\",\"domain\":[0.0,1.0],\"title\":{\"text\":\"\"},\"showline\":false},\"legend\":{\"tracegroupgap\":0},\"title\":{\"text\":\"Top 15 Cities by Job Postings\",\"font\":{\"size\":22,\"family\":\"Arial, sans-serif\"}},\"barmode\":\"relative\",\"font\":{\"size\":13},\"margin\":{\"l\":10,\"r\":20,\"t\":60,\"b\":10},\"height\":520},                        {\"responsive\": true}                    ).then(function(){\n",
              "                            \n",
              "var gd = document.getElementById('b16eb2a6-940a-4f5f-bff4-dfe805fd231f');\n",
              "var x = new MutationObserver(function (mutations, observer) {{\n",
              "        var display = window.getComputedStyle(gd).display;\n",
              "        if (!display || display === 'none') {{\n",
              "            console.log([gd, 'removed!']);\n",
              "            Plotly.purge(gd);\n",
              "            observer.disconnect();\n",
              "        }}\n",
              "}});\n",
              "\n",
              "// Listen for the removal of the full notebook cells\n",
              "var notebookContainer = gd.closest('#notebook-container');\n",
              "if (notebookContainer) {{\n",
              "    x.observe(notebookContainer, {childList: true});\n",
              "}}\n",
              "\n",
              "// Listen for the clearing of the current output cell\n",
              "var outputEl = gd.closest('.output');\n",
              "if (outputEl) {{\n",
              "    x.observe(outputEl, {childList: true});\n",
              "}}\n",
              "\n",
              "                        })                };            </script>        </div>\n",
              "</body>\n",
              "</html>"
            ]
          },
          "metadata": {}
        },
        {
          "output_type": "stream",
          "name": "stdout",
          "text": [
            "PNG export failed; saving HTML instead: \n",
            "\n",
            "Kaleido requires Google Chrome to be installed.\n",
            "\n",
            "Either download and install Chrome yourself following Google's instructions for your operating system,\n",
            "or install it from your terminal by running:\n",
            "\n",
            "    $ plotly_get_chrome\n",
            "\n",
            "\n",
            "Saved HTML ➜ /content/top_15_cities_pretty.html\n"
          ]
        }
      ]
    },
    {
      "cell_type": "code",
      "source": [
        "!pip -q install --upgrade pip\n",
        "!pip -q install \"pyspark==3.5.1\" gdown plotly kaleido ipywidgets pandas\n"
      ],
      "metadata": {
        "colab": {
          "base_uri": "https://localhost:8080/"
        },
        "id": "Hflj4mC-bZ5i",
        "outputId": "10665dab-bbf3-467c-9f84-8f853c0cdbb1"
      },
      "id": "Hflj4mC-bZ5i",
      "execution_count": 8,
      "outputs": [
        {
          "output_type": "stream",
          "name": "stdout",
          "text": [
            "  Preparing metadata (setup.py) ... \u001b[?25l\u001b[?25hdone\n",
            "\u001b[33m  DEPRECATION: Building 'pyspark' using the legacy setup.py bdist_wheel mechanism, which will be removed in a future version. pip 25.3 will enforce this behaviour change. A possible replacement is to use the standardized build interface by setting the `--use-pep517` option, (possibly combined with `--no-build-isolation`), or adding a `pyproject.toml` file to the source tree of 'pyspark'. Discussion can be found at https://github.com/pypa/pip/issues/6334\u001b[0m\u001b[33m\n",
            "\u001b[0m  Building wheel for pyspark (setup.py) ... \u001b[?25l\u001b[?25hdone\n"
          ]
        }
      ]
    },
    {
      "cell_type": "code",
      "source": [
        "# Clean any leftovers just in case (safe even after a fresh reset)\n",
        "import os\n",
        "for k in [\"SPARK_HOME\", \"PYSPARK_DRIVER_PYTHON\", \"PYSPARK_PYTHON\", \"JAVA_HOME\"]:\n",
        "    os.environ.pop(k, None)\n",
        "\n",
        "from pyspark.sql import SparkSession\n",
        "\n",
        "spark = (\n",
        "    SparkSession.builder\n",
        "    .appName(\"assignment03\")\n",
        "    .config(\"spark.ui.showConsoleProgress\", \"false\")\n",
        "    .getOrCreate()\n",
        ")\n",
        "\n",
        "print(\"Spark started. Version:\", spark.version)\n"
      ],
      "metadata": {
        "colab": {
          "base_uri": "https://localhost:8080/"
        },
        "id": "6qEbn8c82T4y",
        "outputId": "3d089e38-3b63-4fc6-96d2-61656cd7aef9"
      },
      "id": "6qEbn8c82T4y",
      "execution_count": 2,
      "outputs": [
        {
          "output_type": "stream",
          "name": "stdout",
          "text": [
            "Spark started. Version: 3.5.1\n"
          ]
        }
      ]
    },
    {
      "cell_type": "code",
      "source": [
        "!gdown -q --id 1V2GCHGt2dkFGqVBeoUFckU4IhUgk4ocQ -O /content/lightcast_job_postings.csv\n",
        "!ls -lh /content/lightcast_job_postings.csv\n"
      ],
      "metadata": {
        "colab": {
          "base_uri": "https://localhost:8080/"
        },
        "id": "2ld-ETvM2gQw",
        "outputId": "8faec861-58d3-436a-a9c0-c82f6e0df80b"
      },
      "id": "2ld-ETvM2gQw",
      "execution_count": 3,
      "outputs": [
        {
          "output_type": "stream",
          "name": "stdout",
          "text": [
            "/usr/local/lib/python3.12/dist-packages/gdown/__main__.py:140: FutureWarning: Option `--id` was deprecated in version 4.3.1 and will be removed in 5.0. You don't need to pass it anymore to use a file ID.\n",
            "  warnings.warn(\n",
            "-rw-r--r-- 1 root root 684M Mar 14  2025 /content/lightcast_job_postings.csv\n"
          ]
        }
      ]
    },
    {
      "cell_type": "code",
      "source": [
        "from pyspark.sql import functions as F\n",
        "\n",
        "csv_path = \"/content/lightcast_job_postings.csv\"\n",
        "\n",
        "# Quick existence check (sanity)\n",
        "import os\n",
        "print(\"Exists?\", os.path.exists(csv_path), \"->\", csv_path)\n",
        "\n",
        "df = (\n",
        "    spark.read\n",
        "    .option(\"header\", True)\n",
        "    .option(\"inferSchema\", True)\n",
        "    .csv(csv_path)\n",
        ")\n",
        "\n",
        "df.printSchema()\n",
        "df.show(5, truncate=False)\n",
        "print(\"Row count:\", df.count())\n"
      ],
      "metadata": {
        "colab": {
          "base_uri": "https://localhost:8080/"
        },
        "id": "nomN1dkh2npv",
        "outputId": "5dd9524a-4b63-44be-e340-9bdd5c86ec6f"
      },
      "id": "nomN1dkh2npv",
      "execution_count": 4,
      "outputs": [
        {
          "output_type": "stream",
          "name": "stdout",
          "text": [
            "Exists? True -> /content/lightcast_job_postings.csv\n",
            "root\n",
            " |-- ID: string (nullable = true)\n",
            " |-- LAST_UPDATED_DATE: string (nullable = true)\n",
            " |-- LAST_UPDATED_TIMESTAMP: string (nullable = true)\n",
            " |-- DUPLICATES: string (nullable = true)\n",
            " |-- POSTED: string (nullable = true)\n",
            " |-- EXPIRED: string (nullable = true)\n",
            " |-- DURATION: string (nullable = true)\n",
            " |-- SOURCE_TYPES: string (nullable = true)\n",
            " |-- SOURCES: string (nullable = true)\n",
            " |-- URL: string (nullable = true)\n",
            " |-- ACTIVE_URLS: string (nullable = true)\n",
            " |-- ACTIVE_SOURCES_INFO: string (nullable = true)\n",
            " |-- TITLE_RAW: string (nullable = true)\n",
            " |-- BODY: string (nullable = true)\n",
            " |-- MODELED_EXPIRED: string (nullable = true)\n",
            " |-- MODELED_DURATION: string (nullable = true)\n",
            " |-- COMPANY: string (nullable = true)\n",
            " |-- COMPANY_NAME: string (nullable = true)\n",
            " |-- COMPANY_RAW: string (nullable = true)\n",
            " |-- COMPANY_IS_STAFFING: string (nullable = true)\n",
            " |-- EDUCATION_LEVELS: string (nullable = true)\n",
            " |-- EDUCATION_LEVELS_NAME: string (nullable = true)\n",
            " |-- MIN_EDULEVELS: string (nullable = true)\n",
            " |-- MIN_EDULEVELS_NAME: string (nullable = true)\n",
            " |-- MAX_EDULEVELS: string (nullable = true)\n",
            " |-- MAX_EDULEVELS_NAME: string (nullable = true)\n",
            " |-- EMPLOYMENT_TYPE: string (nullable = true)\n",
            " |-- EMPLOYMENT_TYPE_NAME: string (nullable = true)\n",
            " |-- MIN_YEARS_EXPERIENCE: string (nullable = true)\n",
            " |-- MAX_YEARS_EXPERIENCE: string (nullable = true)\n",
            " |-- IS_INTERNSHIP: string (nullable = true)\n",
            " |-- SALARY: string (nullable = true)\n",
            " |-- REMOTE_TYPE: string (nullable = true)\n",
            " |-- REMOTE_TYPE_NAME: string (nullable = true)\n",
            " |-- ORIGINAL_PAY_PERIOD: string (nullable = true)\n",
            " |-- SALARY_TO: string (nullable = true)\n",
            " |-- SALARY_FROM: string (nullable = true)\n",
            " |-- LOCATION: string (nullable = true)\n",
            " |-- CITY: string (nullable = true)\n",
            " |-- CITY_NAME: string (nullable = true)\n",
            " |-- COUNTY: string (nullable = true)\n",
            " |-- COUNTY_NAME: string (nullable = true)\n",
            " |-- MSA: string (nullable = true)\n",
            " |-- MSA_NAME: string (nullable = true)\n",
            " |-- STATE: string (nullable = true)\n",
            " |-- STATE_NAME: string (nullable = true)\n",
            " |-- COUNTY_OUTGOING: string (nullable = true)\n",
            " |-- COUNTY_NAME_OUTGOING: string (nullable = true)\n",
            " |-- COUNTY_INCOMING: string (nullable = true)\n",
            " |-- COUNTY_NAME_INCOMING: string (nullable = true)\n",
            " |-- MSA_OUTGOING: string (nullable = true)\n",
            " |-- MSA_NAME_OUTGOING: string (nullable = true)\n",
            " |-- MSA_INCOMING: string (nullable = true)\n",
            " |-- MSA_NAME_INCOMING: string (nullable = true)\n",
            " |-- NAICS2: string (nullable = true)\n",
            " |-- NAICS2_NAME: string (nullable = true)\n",
            " |-- NAICS3: string (nullable = true)\n",
            " |-- NAICS3_NAME: string (nullable = true)\n",
            " |-- NAICS4: string (nullable = true)\n",
            " |-- NAICS4_NAME: string (nullable = true)\n",
            " |-- NAICS5: string (nullable = true)\n",
            " |-- NAICS5_NAME: string (nullable = true)\n",
            " |-- NAICS6: string (nullable = true)\n",
            " |-- NAICS6_NAME: string (nullable = true)\n",
            " |-- TITLE: string (nullable = true)\n",
            " |-- TITLE_NAME: string (nullable = true)\n",
            " |-- TITLE_CLEAN: string (nullable = true)\n",
            " |-- SKILLS: string (nullable = true)\n",
            " |-- SKILLS_NAME: string (nullable = true)\n",
            " |-- SPECIALIZED_SKILLS: string (nullable = true)\n",
            " |-- SPECIALIZED_SKILLS_NAME: string (nullable = true)\n",
            " |-- CERTIFICATIONS: string (nullable = true)\n",
            " |-- CERTIFICATIONS_NAME: string (nullable = true)\n",
            " |-- COMMON_SKILLS: string (nullable = true)\n",
            " |-- COMMON_SKILLS_NAME: string (nullable = true)\n",
            " |-- SOFTWARE_SKILLS: string (nullable = true)\n",
            " |-- SOFTWARE_SKILLS_NAME: string (nullable = true)\n",
            " |-- ONET: string (nullable = true)\n",
            " |-- ONET_NAME: string (nullable = true)\n",
            " |-- ONET_2019: string (nullable = true)\n",
            " |-- ONET_2019_NAME: string (nullable = true)\n",
            " |-- CIP6: string (nullable = true)\n",
            " |-- CIP6_NAME: string (nullable = true)\n",
            " |-- CIP4: string (nullable = true)\n",
            " |-- CIP4_NAME: string (nullable = true)\n",
            " |-- CIP2: string (nullable = true)\n",
            " |-- CIP2_NAME: string (nullable = true)\n",
            " |-- SOC_2021_2: string (nullable = true)\n",
            " |-- SOC_2021_2_NAME: string (nullable = true)\n",
            " |-- SOC_2021_3: string (nullable = true)\n",
            " |-- SOC_2021_3_NAME: string (nullable = true)\n",
            " |-- SOC_2021_4: string (nullable = true)\n",
            " |-- SOC_2021_4_NAME: string (nullable = true)\n",
            " |-- SOC_2021_5: string (nullable = true)\n",
            " |-- SOC_2021_5_NAME: string (nullable = true)\n",
            " |-- LOT_CAREER_AREA: string (nullable = true)\n",
            " |-- LOT_CAREER_AREA_NAME: string (nullable = true)\n",
            " |-- LOT_OCCUPATION: string (nullable = true)\n",
            " |-- LOT_OCCUPATION_NAME: string (nullable = true)\n",
            " |-- LOT_SPECIALIZED_OCCUPATION: string (nullable = true)\n",
            " |-- LOT_SPECIALIZED_OCCUPATION_NAME: string (nullable = true)\n",
            " |-- LOT_OCCUPATION_GROUP: string (nullable = true)\n",
            " |-- LOT_OCCUPATION_GROUP_NAME: string (nullable = true)\n",
            " |-- LOT_V6_SPECIALIZED_OCCUPATION: string (nullable = true)\n",
            " |-- LOT_V6_SPECIALIZED_OCCUPATION_NAME: string (nullable = true)\n",
            " |-- LOT_V6_OCCUPATION: string (nullable = true)\n",
            " |-- LOT_V6_OCCUPATION_NAME: string (nullable = true)\n",
            " |-- LOT_V6_OCCUPATION_GROUP: string (nullable = true)\n",
            " |-- LOT_V6_OCCUPATION_GROUP_NAME: string (nullable = true)\n",
            " |-- LOT_V6_CAREER_AREA: string (nullable = true)\n",
            " |-- LOT_V6_CAREER_AREA_NAME: string (nullable = true)\n",
            " |-- SOC_2: string (nullable = true)\n",
            " |-- SOC_2_NAME: string (nullable = true)\n",
            " |-- SOC_3: string (nullable = true)\n",
            " |-- SOC_3_NAME: string (nullable = true)\n",
            " |-- SOC_4: string (nullable = true)\n",
            " |-- SOC_4_NAME: string (nullable = true)\n",
            " |-- SOC_5: string (nullable = true)\n",
            " |-- SOC_5_NAME: string (nullable = true)\n",
            " |-- LIGHTCAST_SECTORS: string (nullable = true)\n",
            " |-- LIGHTCAST_SECTORS_NAME: string (nullable = true)\n",
            " |-- NAICS_2022_2: string (nullable = true)\n",
            " |-- NAICS_2022_2_NAME: string (nullable = true)\n",
            " |-- NAICS_2022_3: string (nullable = true)\n",
            " |-- NAICS_2022_3_NAME: string (nullable = true)\n",
            " |-- NAICS_2022_4: string (nullable = true)\n",
            " |-- NAICS_2022_4_NAME: string (nullable = true)\n",
            " |-- NAICS_2022_5: string (nullable = true)\n",
            " |-- NAICS_2022_5_NAME: string (nullable = true)\n",
            " |-- NAICS_2022_6: string (nullable = true)\n",
            " |-- NAICS_2022_6_NAME: string (nullable = true)\n",
            "\n",
            "+----------------------------------------+-----------------+-------------------------+----------+--------+--------+--------+------------+-------+----+-----------+-------------------+---------+----+---------------+----------------+-------+------------+-----------+-------------------+----------------+---------------------+-------------+------------------+-------------+------------------+---------------+--------------------+--------------------+--------------------+-------------+------+-----------+----------------+-------------------+---------+-----------+--------+----+---------+------+-----------+----+--------+-----+----------+---------------+--------------------+---------------+--------------------+------------+-----------------+------------+-----------------+------+-----------+------+-----------+------+-----------+------+-----------+------+-----------+-----+----------+-----------+------+-----------+------------------+-----------------------+--------------+-------------------+-------------+------------------+---------------+--------------------+----+---------+---------+--------------+----+---------+----+---------+----+---------+----------+---------------+----------+---------------+----------+---------------+----------+---------------+---------------+--------------------+--------------+-------------------+--------------------------+-------------------------------+--------------------+-------------------------+-----------------------------+----------------------------------+-----------------+----------------------+-----------------------+----------------------------+------------------+-----------------------+-----+----------+-----+----------+-----+----------+-----+----------+-----------------+----------------------+------------+-----------------+------------+-----------------+------------+-----------------+------------+-----------------+------------+-----------------+\n",
            "|ID                                      |LAST_UPDATED_DATE|LAST_UPDATED_TIMESTAMP   |DUPLICATES|POSTED  |EXPIRED |DURATION|SOURCE_TYPES|SOURCES|URL |ACTIVE_URLS|ACTIVE_SOURCES_INFO|TITLE_RAW|BODY|MODELED_EXPIRED|MODELED_DURATION|COMPANY|COMPANY_NAME|COMPANY_RAW|COMPANY_IS_STAFFING|EDUCATION_LEVELS|EDUCATION_LEVELS_NAME|MIN_EDULEVELS|MIN_EDULEVELS_NAME|MAX_EDULEVELS|MAX_EDULEVELS_NAME|EMPLOYMENT_TYPE|EMPLOYMENT_TYPE_NAME|MIN_YEARS_EXPERIENCE|MAX_YEARS_EXPERIENCE|IS_INTERNSHIP|SALARY|REMOTE_TYPE|REMOTE_TYPE_NAME|ORIGINAL_PAY_PERIOD|SALARY_TO|SALARY_FROM|LOCATION|CITY|CITY_NAME|COUNTY|COUNTY_NAME|MSA |MSA_NAME|STATE|STATE_NAME|COUNTY_OUTGOING|COUNTY_NAME_OUTGOING|COUNTY_INCOMING|COUNTY_NAME_INCOMING|MSA_OUTGOING|MSA_NAME_OUTGOING|MSA_INCOMING|MSA_NAME_INCOMING|NAICS2|NAICS2_NAME|NAICS3|NAICS3_NAME|NAICS4|NAICS4_NAME|NAICS5|NAICS5_NAME|NAICS6|NAICS6_NAME|TITLE|TITLE_NAME|TITLE_CLEAN|SKILLS|SKILLS_NAME|SPECIALIZED_SKILLS|SPECIALIZED_SKILLS_NAME|CERTIFICATIONS|CERTIFICATIONS_NAME|COMMON_SKILLS|COMMON_SKILLS_NAME|SOFTWARE_SKILLS|SOFTWARE_SKILLS_NAME|ONET|ONET_NAME|ONET_2019|ONET_2019_NAME|CIP6|CIP6_NAME|CIP4|CIP4_NAME|CIP2|CIP2_NAME|SOC_2021_2|SOC_2021_2_NAME|SOC_2021_3|SOC_2021_3_NAME|SOC_2021_4|SOC_2021_4_NAME|SOC_2021_5|SOC_2021_5_NAME|LOT_CAREER_AREA|LOT_CAREER_AREA_NAME|LOT_OCCUPATION|LOT_OCCUPATION_NAME|LOT_SPECIALIZED_OCCUPATION|LOT_SPECIALIZED_OCCUPATION_NAME|LOT_OCCUPATION_GROUP|LOT_OCCUPATION_GROUP_NAME|LOT_V6_SPECIALIZED_OCCUPATION|LOT_V6_SPECIALIZED_OCCUPATION_NAME|LOT_V6_OCCUPATION|LOT_V6_OCCUPATION_NAME|LOT_V6_OCCUPATION_GROUP|LOT_V6_OCCUPATION_GROUP_NAME|LOT_V6_CAREER_AREA|LOT_V6_CAREER_AREA_NAME|SOC_2|SOC_2_NAME|SOC_3|SOC_3_NAME|SOC_4|SOC_4_NAME|SOC_5|SOC_5_NAME|LIGHTCAST_SECTORS|LIGHTCAST_SECTORS_NAME|NAICS_2022_2|NAICS_2022_2_NAME|NAICS_2022_3|NAICS_2022_3_NAME|NAICS_2022_4|NAICS_2022_4_NAME|NAICS_2022_5|NAICS_2022_5_NAME|NAICS_2022_6|NAICS_2022_6_NAME|\n",
            "+----------------------------------------+-----------------+-------------------------+----------+--------+--------+--------+------------+-------+----+-----------+-------------------+---------+----+---------------+----------------+-------+------------+-----------+-------------------+----------------+---------------------+-------------+------------------+-------------+------------------+---------------+--------------------+--------------------+--------------------+-------------+------+-----------+----------------+-------------------+---------+-----------+--------+----+---------+------+-----------+----+--------+-----+----------+---------------+--------------------+---------------+--------------------+------------+-----------------+------------+-----------------+------+-----------+------+-----------+------+-----------+------+-----------+------+-----------+-----+----------+-----------+------+-----------+------------------+-----------------------+--------------+-------------------+-------------+------------------+---------------+--------------------+----+---------+---------+--------------+----+---------+----+---------+----+---------+----------+---------------+----------+---------------+----------+---------------+----------+---------------+---------------+--------------------+--------------+-------------------+--------------------------+-------------------------------+--------------------+-------------------------+-----------------------------+----------------------------------+-----------------+----------------------+-----------------------+----------------------------+------------------+-----------------------+-----+----------+-----+----------+-----+----------+-----+----------+-----------------+----------------------+------------+-----------------+------------+-----------------+------------+-----------------+------------+-----------------+------------+-----------------+\n",
            "|1f57d95acf4dc67ed2819eb12f049f6a5c11782c|9/6/2024         |2024-09-06 20:32:57.352 Z|0         |6/2/2024|6/8/2024|6       |[           |NULL   |NULL|NULL       |NULL               |NULL     |NULL|NULL           |NULL            |NULL   |NULL        |NULL       |NULL               |NULL            |NULL                 |NULL         |NULL              |NULL         |NULL              |NULL           |NULL                |NULL                |NULL                |NULL         |NULL  |NULL       |NULL            |NULL               |NULL     |NULL       |NULL    |NULL|NULL     |NULL  |NULL       |NULL|NULL    |NULL |NULL      |NULL           |NULL                |NULL           |NULL                |NULL        |NULL             |NULL        |NULL             |NULL  |NULL       |NULL  |NULL       |NULL  |NULL       |NULL  |NULL       |NULL  |NULL       |NULL |NULL      |NULL       |NULL  |NULL       |NULL              |NULL                   |NULL          |NULL               |NULL         |NULL              |NULL           |NULL                |NULL|NULL     |NULL     |NULL          |NULL|NULL     |NULL|NULL     |NULL|NULL     |NULL      |NULL           |NULL      |NULL           |NULL      |NULL           |NULL      |NULL           |NULL           |NULL                |NULL          |NULL               |NULL                      |NULL                           |NULL                |NULL                     |NULL                         |NULL                              |NULL             |NULL                  |NULL                   |NULL                        |NULL              |NULL                   |NULL |NULL      |NULL |NULL      |NULL |NULL      |NULL |NULL      |NULL             |NULL                  |NULL        |NULL             |NULL        |NULL             |NULL        |NULL             |NULL        |NULL             |NULL        |NULL             |\n",
            "|  \"\"Company\"\"                           |NULL             |NULL                     |NULL      |NULL    |NULL    |NULL    |NULL        |NULL   |NULL|NULL       |NULL               |NULL     |NULL|NULL           |NULL            |NULL   |NULL        |NULL       |NULL               |NULL            |NULL                 |NULL         |NULL              |NULL         |NULL              |NULL           |NULL                |NULL                |NULL                |NULL         |NULL  |NULL       |NULL            |NULL               |NULL     |NULL       |NULL    |NULL|NULL     |NULL  |NULL       |NULL|NULL    |NULL |NULL      |NULL           |NULL                |NULL           |NULL                |NULL        |NULL             |NULL        |NULL             |NULL  |NULL       |NULL  |NULL       |NULL  |NULL       |NULL  |NULL       |NULL  |NULL       |NULL |NULL      |NULL       |NULL  |NULL       |NULL              |NULL                   |NULL          |NULL               |NULL         |NULL              |NULL           |NULL                |NULL|NULL     |NULL     |NULL          |NULL|NULL     |NULL|NULL     |NULL|NULL     |NULL      |NULL           |NULL      |NULL           |NULL      |NULL           |NULL      |NULL           |NULL           |NULL                |NULL          |NULL               |NULL                      |NULL                           |NULL                |NULL                     |NULL                         |NULL                              |NULL             |NULL                  |NULL                   |NULL                        |NULL              |NULL                   |NULL |NULL      |NULL |NULL      |NULL |NULL      |NULL |NULL      |NULL             |NULL                  |NULL        |NULL             |NULL        |NULL             |NULL        |NULL             |NULL        |NULL             |NULL        |NULL             |\n",
            "|]\"                                      |[                |NULL                     |NULL      |NULL    |NULL    |NULL    |NULL        |NULL   |NULL|NULL       |NULL               |NULL     |NULL|NULL           |NULL            |NULL   |NULL        |NULL       |NULL               |NULL            |NULL                 |NULL         |NULL              |NULL         |NULL              |NULL           |NULL                |NULL                |NULL                |NULL         |NULL  |NULL       |NULL            |NULL               |NULL     |NULL       |NULL    |NULL|NULL     |NULL  |NULL       |NULL|NULL    |NULL |NULL      |NULL           |NULL                |NULL           |NULL                |NULL        |NULL             |NULL        |NULL             |NULL  |NULL       |NULL  |NULL       |NULL  |NULL       |NULL  |NULL       |NULL  |NULL       |NULL |NULL      |NULL       |NULL  |NULL       |NULL              |NULL                   |NULL          |NULL               |NULL         |NULL              |NULL           |NULL                |NULL|NULL     |NULL     |NULL          |NULL|NULL     |NULL|NULL     |NULL|NULL     |NULL      |NULL           |NULL      |NULL           |NULL      |NULL           |NULL      |NULL           |NULL           |NULL                |NULL          |NULL               |NULL                      |NULL                           |NULL                |NULL                     |NULL                         |NULL                              |NULL             |NULL                  |NULL                   |NULL                        |NULL              |NULL                   |NULL |NULL      |NULL |NULL      |NULL |NULL      |NULL |NULL      |NULL             |NULL                  |NULL        |NULL             |NULL        |NULL             |NULL        |NULL             |NULL        |NULL             |NULL        |NULL             |\n",
            "|  \"\"brassring.com\"\"                     |NULL             |NULL                     |NULL      |NULL    |NULL    |NULL    |NULL        |NULL   |NULL|NULL       |NULL               |NULL     |NULL|NULL           |NULL            |NULL   |NULL        |NULL       |NULL               |NULL            |NULL                 |NULL         |NULL              |NULL         |NULL              |NULL           |NULL                |NULL                |NULL                |NULL         |NULL  |NULL       |NULL            |NULL               |NULL     |NULL       |NULL    |NULL|NULL     |NULL  |NULL       |NULL|NULL    |NULL |NULL      |NULL           |NULL                |NULL           |NULL                |NULL        |NULL             |NULL        |NULL             |NULL  |NULL       |NULL  |NULL       |NULL  |NULL       |NULL  |NULL       |NULL  |NULL       |NULL |NULL      |NULL       |NULL  |NULL       |NULL              |NULL                   |NULL          |NULL               |NULL         |NULL              |NULL           |NULL                |NULL|NULL     |NULL     |NULL          |NULL|NULL     |NULL|NULL     |NULL|NULL     |NULL      |NULL           |NULL      |NULL           |NULL      |NULL           |NULL      |NULL           |NULL           |NULL                |NULL          |NULL               |NULL                      |NULL                           |NULL                |NULL                     |NULL                         |NULL                              |NULL             |NULL                  |NULL                   |NULL                        |NULL              |NULL                   |NULL |NULL      |NULL |NULL      |NULL |NULL      |NULL |NULL      |NULL             |NULL                  |NULL        |NULL             |NULL        |NULL             |NULL        |NULL             |NULL        |NULL             |NULL        |NULL             |\n",
            "|]\"                                      |[                |NULL                     |NULL      |NULL    |NULL    |NULL    |NULL        |NULL   |NULL|NULL       |NULL               |NULL     |NULL|NULL           |NULL            |NULL   |NULL        |NULL       |NULL               |NULL            |NULL                 |NULL         |NULL              |NULL         |NULL              |NULL           |NULL                |NULL                |NULL                |NULL         |NULL  |NULL       |NULL            |NULL               |NULL     |NULL       |NULL    |NULL|NULL     |NULL  |NULL       |NULL|NULL    |NULL |NULL      |NULL           |NULL                |NULL           |NULL                |NULL        |NULL             |NULL        |NULL             |NULL  |NULL       |NULL  |NULL       |NULL  |NULL       |NULL  |NULL       |NULL  |NULL       |NULL |NULL      |NULL       |NULL  |NULL       |NULL              |NULL                   |NULL          |NULL               |NULL         |NULL              |NULL           |NULL                |NULL|NULL     |NULL     |NULL          |NULL|NULL     |NULL|NULL     |NULL|NULL     |NULL      |NULL           |NULL      |NULL           |NULL      |NULL           |NULL      |NULL           |NULL           |NULL                |NULL          |NULL               |NULL                      |NULL                           |NULL                |NULL                     |NULL                         |NULL                              |NULL             |NULL                  |NULL                   |NULL                        |NULL              |NULL                   |NULL |NULL      |NULL |NULL      |NULL |NULL      |NULL |NULL      |NULL             |NULL                  |NULL        |NULL             |NULL        |NULL             |NULL        |NULL             |NULL        |NULL             |NULL        |NULL             |\n",
            "+----------------------------------------+-----------------+-------------------------+----------+--------+--------+--------+------------+-------+----+-----------+-------------------+---------+----+---------------+----------------+-------+------------+-----------+-------------------+----------------+---------------------+-------------+------------------+-------------+------------------+---------------+--------------------+--------------------+--------------------+-------------+------+-----------+----------------+-------------------+---------+-----------+--------+----+---------+------+-----------+----+--------+-----+----------+---------------+--------------------+---------------+--------------------+------------+-----------------+------------+-----------------+------+-----------+------+-----------+------+-----------+------+-----------+------+-----------+-----+----------+-----------+------+-----------+------------------+-----------------------+--------------+-------------------+-------------+------------------+---------------+--------------------+----+---------+---------+--------------+----+---------+----+---------+----+---------+----------+---------------+----------+---------------+----------+---------------+----------+---------------+---------------+--------------------+--------------+-------------------+--------------------------+-------------------------------+--------------------+-------------------------+-----------------------------+----------------------------------+-----------------+----------------------+-----------------------+----------------------------+------------------+-----------------------+-----+----------+-----+----------+-----+----------+-----+----------+-----------------+----------------------+------------+-----------------+------------+-----------------+------------+-----------------+------------+-----------------+------------+-----------------+\n",
            "only showing top 5 rows\n",
            "\n",
            "Row count: 11992060\n"
          ]
        }
      ]
    },
    {
      "cell_type": "code",
      "source": [
        "# --- build your figure exactly as you normally do ---\n",
        "# Example:\n",
        "# import plotly.express as px\n",
        "# fig = px.bar(top15, x=\"city\", y=\"count\", title=\"Top 15 Cities\")\n",
        "\n",
        "fig.show()\n",
        "\n",
        "# Try PNG first; if it fails for any reason, save HTML so you still have a file\n",
        "try:\n",
        "    fig.write_image(\"/content/top_15_cities.png\", scale=2)  # engine auto-detected\n",
        "    print(\"Saved PNG to /content/top_15_cities.png\")\n",
        "except Exception as e:\n",
        "    print(\"PNG export failed, falling back to HTML:\", e)\n",
        "    fig.write_html(\"/content/top_15_cities.html\", include_plotlyjs=\"cdn\")\n",
        "    print(\"Saved HTML to /content/top_15_cities.html\")\n"
      ],
      "metadata": {
        "colab": {
          "base_uri": "https://localhost:8080/",
          "height": 211
        },
        "id": "9XqMeRqo9iUi",
        "outputId": "5b7fd1b1-146d-4b3d-8268-ea76d77da09d"
      },
      "id": "9XqMeRqo9iUi",
      "execution_count": 1,
      "outputs": [
        {
          "output_type": "error",
          "ename": "NameError",
          "evalue": "name 'fig' is not defined",
          "traceback": [
            "\u001b[0;31m---------------------------------------------------------------------------\u001b[0m",
            "\u001b[0;31mNameError\u001b[0m                                 Traceback (most recent call last)",
            "\u001b[0;32m/tmp/ipython-input-402863150.py\u001b[0m in \u001b[0;36m<cell line: 0>\u001b[0;34m()\u001b[0m\n\u001b[1;32m      4\u001b[0m \u001b[0;31m# fig = px.bar(top15, x=\"city\", y=\"count\", title=\"Top 15 Cities\")\u001b[0m\u001b[0;34m\u001b[0m\u001b[0;34m\u001b[0m\u001b[0m\n\u001b[1;32m      5\u001b[0m \u001b[0;34m\u001b[0m\u001b[0m\n\u001b[0;32m----> 6\u001b[0;31m \u001b[0mfig\u001b[0m\u001b[0;34m.\u001b[0m\u001b[0mshow\u001b[0m\u001b[0;34m(\u001b[0m\u001b[0;34m)\u001b[0m\u001b[0;34m\u001b[0m\u001b[0;34m\u001b[0m\u001b[0m\n\u001b[0m\u001b[1;32m      7\u001b[0m \u001b[0;34m\u001b[0m\u001b[0m\n\u001b[1;32m      8\u001b[0m \u001b[0;31m# Try PNG first; if it fails for any reason, save HTML so you still have a file\u001b[0m\u001b[0;34m\u001b[0m\u001b[0;34m\u001b[0m\u001b[0m\n",
            "\u001b[0;31mNameError\u001b[0m: name 'fig' is not defined"
          ]
        }
      ]
    },
    {
      "cell_type": "code",
      "execution_count": null,
      "id": "527a88b6",
      "metadata": {
        "id": "527a88b6"
      },
      "outputs": [],
      "source": [
        "import pandas as pd\n",
        "import numpy as np\n",
        "from pyspark.sql import SparkSession\n",
        "import plotly.express as px\n",
        "from pyspark.sql import functions as F"
      ]
    },
    {
      "cell_type": "code",
      "execution_count": null,
      "id": "3d445e1c",
      "metadata": {
        "id": "3d445e1c"
      },
      "outputs": [],
      "source": [
        "spark = SparkSession.builder.appName('assignment03').getOrCreate()\n",
        "df = spark.read.csv('data/lightcast_job_postings.csv', header=True, inferSchema=True)\n",
        "df.show(5)"
      ]
    },
    {
      "cell_type": "code",
      "execution_count": null,
      "id": "e54bcd58-f9fa-418c-a07d-62bb8e7b8b83",
      "metadata": {
        "id": "e54bcd58-f9fa-418c-a07d-62bb8e7b8b83"
      },
      "outputs": [],
      "source": [
        "# Clean salary columns and compute medians\n",
        "from pyspark.sql import functions as F\n",
        "\n",
        "df2 = df.withColumn(\"SALARY_FROM\", F.col(\"SALARY_FROM\").cast(\"double\")) \\\n",
        "        .withColumn(\"SALARY_TO\", F.col(\"SALARY_TO\").cast(\"double\"))\n",
        "\n",
        "df2 = df2.withColumn(\"Average_Salary\", (F.col(\"SALARY_FROM\") + F.col(\"SALARY_TO\"))/2)\n",
        "\n",
        "median_from = df2.approxQuantile(\"SALARY_FROM\", [0.5], 0.01)[0]\n",
        "median_to   = df2.approxQuantile(\"SALARY_TO\", [0.5], 0.01)[0]\n",
        "median_avg  = df2.approxQuantile(\"Average_Salary\", [0.5], 0.01)[0]\n",
        "\n",
        "print(\"Median From:\", median_from)\n",
        "print(\"Median To:\", median_to)\n",
        "print(\"Median Avg:\", median_avg)\n",
        "print(\"Row count:\", df2.count())\n"
      ]
    },
    {
      "cell_type": "code",
      "execution_count": null,
      "id": "304cfa26-bf4d-4af7-8197-1b2e6d3ce47a",
      "metadata": {
        "id": "304cfa26-bf4d-4af7-8197-1b2e6d3ce47a"
      },
      "outputs": [],
      "source": [
        "# Clean education levels (remove newlines etc.)\n",
        "df2 = df2.withColumn(\"EDUCATION_LEVELS_NAME\", F.regexp_replace(\"EDUCATION_LEVELS_NAME\", \"[\\n\\r]\", \"\"))\n",
        "df2.select(\"EDUCATION_LEVELS_NAME\").distinct().show(20, truncate=False)\n"
      ]
    },
    {
      "cell_type": "code",
      "execution_count": null,
      "id": "949d1228-501f-4f89-8bf8-38a03722e914",
      "metadata": {
        "id": "949d1228-501f-4f89-8bf8-38a03722e914"
      },
      "outputs": [],
      "source": [
        "# Average salary by industry\n",
        "industry_avg = df2.groupBy(\"INDUSTRY_NAME\").agg(F.avg(\"Average_Salary\").alias(\"avg_salary\"))\n",
        "industry_pd = industry_avg.toPandas().sort_values(\"avg_salary\", ascending=False).head(15)\n",
        "\n",
        "import plotly.express as px\n",
        "fig = px.bar(industry_pd, x=\"INDUSTRY_NAME\", y=\"avg_salary\",\n",
        "             title=\"Top 15 Industries by Average Salary\")\n",
        "fig.show()\n"
      ]
    },
    {
      "cell_type": "code",
      "execution_count": null,
      "id": "d6c5c910-26ce-4f2c-af24-fca0aa23e76d",
      "metadata": {
        "id": "d6c5c910-26ce-4f2c-af24-fca0aa23e76d"
      },
      "outputs": [],
      "source": [
        "# Average salary by education level\n",
        "edu_avg = df2.groupBy(\"EDUCATION_LEVELS_NAME\").agg(F.avg(\"Average_Salary\").alias(\"avg_salary\"))\n",
        "edu_pd = edu_avg.toPandas().sort_values(\"avg_salary\", ascending=False)\n",
        "\n",
        "fig = px.bar(edu_pd, x=\"EDUCATION_LEVELS_NAME\", y=\"avg_salary\",\n",
        "             title=\"Average Salary by Education Level\")\n",
        "fig.show()\n"
      ]
    },
    {
      "cell_type": "code",
      "execution_count": null,
      "id": "ad1d3e5b-3358-4a46-bc31-fa71038286b8",
      "metadata": {
        "id": "ad1d3e5b-3358-4a46-bc31-fa71038286b8"
      },
      "outputs": [],
      "source": [
        "# Average salary by occupation\n",
        "occupation_avg = df2.groupBy(\"OCCUPATION_NAME\").agg(F.avg(\"Average_Salary\").alias(\"avg_salary\"))\n",
        "occupation_pd = occupation_avg.toPandas().sort_values(\"avg_salary\", ascending=False).head(15)\n",
        "\n",
        "fig = px.bar(occupation_pd, x=\"OCCUPATION_NAME\", y=\"avg_salary\",\n",
        "             title=\"Top 15 Occupations by Average Salary\")\n",
        "fig.show()\n"
      ]
    },
    {
      "cell_type": "code",
      "execution_count": null,
      "id": "97267747-ada2-416b-9d55-3ecc7c056553",
      "metadata": {
        "id": "97267747-ada2-416b-9d55-3ecc7c056553"
      },
      "outputs": [],
      "source": [
        "# Convert POSTED_DATE to proper date\n",
        "df3 = df2.withColumn(\"POSTED_DATE\", F.to_date(\"POSTED_DATE\", \"yyyy-MM-dd\"))\n",
        "\n",
        "# Count postings per month\n",
        "trend = df3.groupBy(F.date_format(\"POSTED_DATE\", \"yyyy-MM\").alias(\"month\")) \\\n",
        "           .count() \\\n",
        "           .orderBy(\"month\")\n",
        "\n",
        "trend_pd = trend.toPandas()\n",
        "\n",
        "fig = px.line(trend_pd, x=\"month\", y=\"count\",\n",
        "              title=\"Job Postings Trend Over Time\",\n",
        "              labels={\"month\": \"Month\", \"count\": \"Number of Postings\"})\n",
        "fig.update_xaxes(type='category')  # keep months readable\n",
        "fig.show()\n"
      ]
    },
    {
      "cell_type": "code",
      "execution_count": null,
      "id": "1d2bcdb3-e48c-4519-b430-9b57a494cd4e",
      "metadata": {
        "id": "1d2bcdb3-e48c-4519-b430-9b57a494cd4e"
      },
      "outputs": [],
      "source": [
        "# Top job titles by count\n",
        "title_counts = df2.groupBy(\"JOB_TITLE\").count().orderBy(F.desc(\"count\")).limit(15)\n",
        "title_pd = title_counts.toPandas()\n",
        "\n",
        "fig = px.bar(title_pd, x=\"JOB_TITLE\", y=\"count\",\n",
        "             title=\"Top 15 Job Titles by Frequency\")\n",
        "fig.show()\n"
      ]
    },
    {
      "cell_type": "code",
      "execution_count": null,
      "id": "54c6d1f2-64b8-4f2c-84c9-85755c64a057",
      "metadata": {
        "id": "54c6d1f2-64b8-4f2c-84c9-85755c64a057"
      },
      "outputs": [],
      "source": [
        "# Top 15 States by job posting count\n",
        "state_counts = df2.groupBy(\"STATE\").count().orderBy(F.desc(\"count\")).limit(15)\n",
        "state_pd = state_counts.toPandas()\n",
        "\n",
        "fig = px.bar(state_pd, x=\"STATE\", y=\"count\",\n",
        "             title=\"Top 15 States by Job Postings\")\n",
        "fig.show()\n"
      ]
    },
    {
      "cell_type": "code",
      "execution_count": null,
      "id": "d2e3fb07-5da4-4fbb-b567-cf7715e01a8c",
      "metadata": {
        "id": "d2e3fb07-5da4-4fbb-b567-cf7715e01a8c"
      },
      "outputs": [],
      "source": [
        "# Top 15 Cities by job posting count\n",
        "city_counts = df2.groupBy(\"CITY\").count().orderBy(F.desc(\"count\")).limit(15)\n",
        "city_pd = city_counts.toPandas()\n",
        "\n",
        "fig = px.bar(city_pd, x=\"CITY\", y=\"count\",\n",
        "             title=\"Top 15 Cities by Job Postings\")\n",
        "fig.show()\n"
      ]
    },
    {
      "cell_type": "code",
      "execution_count": null,
      "id": "f7e044e7-f721-424c-b70a-82e4502a4b1d",
      "metadata": {
        "id": "f7e044e7-f721-424c-b70a-82e4502a4b1d"
      },
      "outputs": [],
      "source": [
        "# Top 20 most common skills in postings\n",
        "skill_counts = df2.groupBy(\"SKILL_NAME\").count().orderBy(F.desc(\"count\")).limit(20)\n",
        "skill_pd = skill_counts.toPandas()\n",
        "\n",
        "fig = px.bar(skill_pd, x=\"SKILL_NAME\", y=\"count\",\n",
        "             title=\"Top 20 Skills by Frequency\")\n",
        "fig.show()\n"
      ]
    },
    {
      "cell_type": "code",
      "execution_count": null,
      "id": "43c018a9-fb06-4feb-8e8a-0659c658ee01",
      "metadata": {
        "id": "43c018a9-fb06-4feb-8e8a-0659c658ee01"
      },
      "outputs": [],
      "source": [
        "# Average salary by skill (filter out nulls)\n",
        "skill_salary = df2.groupBy(\"SKILL_NAME\").agg(F.avg(\"SALARY\").alias(\"avg_salary\")) \\\n",
        "                 .orderBy(F.desc(\"avg_salary\")).limit(15)\n",
        "skill_salary_pd = skill_salary.toPandas()\n",
        "\n",
        "fig = px.bar(skill_salary_pd, x=\"SKILL_NAME\", y=\"avg_salary\",\n",
        "             title=\"Top 15 Skills by Average Salary\")\n",
        "fig.show()\n"
      ]
    },
    {
      "cell_type": "code",
      "execution_count": null,
      "id": "1ce69536-68b4-4919-ab9e-dd71c8ecdbb5",
      "metadata": {
        "id": "1ce69536-68b4-4919-ab9e-dd71c8ecdbb5"
      },
      "outputs": [],
      "source": [
        "# Group by occupation: count of postings and average salary\n",
        "occ_stats = df2.groupBy(\"OCCUPATION\").agg(\n",
        "    F.count(\"*\").alias(\"posting_count\"),\n",
        "    F.avg(\"SALARY\").alias(\"avg_salary\")\n",
        ").orderBy(F.desc(\"posting_count\")).limit(20)\n",
        "\n",
        "occ_stats_pd = occ_stats.toPandas()\n",
        "\n",
        "fig = px.scatter(occ_stats_pd, x=\"posting_count\", y=\"avg_salary\", text=\"OCCUPATION\",\n",
        "                 title=\"Postings vs. Average Salary (Top 20 Occupations)\",\n",
        "                 labels={\"posting_count\": \"Number of Postings\", \"avg_salary\": \"Average Salary\"})\n",
        "fig.update_traces(textposition=\"top center\")\n",
        "fig.show()\n"
      ]
    },
    {
      "cell_type": "code",
      "execution_count": null,
      "id": "fb90ab92-32f4-4933-b971-1aa0faa2839c",
      "metadata": {
        "id": "fb90ab92-32f4-4933-b971-1aa0faa2839c"
      },
      "outputs": [],
      "source": [
        "# Count + average salary for skills\n",
        "skill_stats = df2.groupBy(\"SKILL_NAME\").agg(\n",
        "    F.count(\"*\").alias(\"posting_count\"),\n",
        "    F.avg(\"SALARY\").alias(\"avg_salary\")\n",
        ").orderBy(F.desc(\"posting_count\")).limit(30)\n",
        "\n",
        "skill_stats_pd = skill_stats.toPandas()\n",
        "\n",
        "fig = px.scatter(skill_stats_pd, x=\"posting_count\", y=\"avg_salary\", text=\"SKILL_NAME\",\n",
        "                 title=\"Skill Demand vs. Salary (Top 30 Skills)\",\n",
        "                 labels={\"posting_count\": \"Number of Postings\", \"avg_salary\": \"Average Salary\"})\n",
        "fig.update_traces(textposition=\"top center\")\n",
        "fig.show()\n"
      ]
    },
    {
      "cell_type": "code",
      "execution_count": null,
      "id": "0966d956-300b-45c3-824f-38e7ac2742f1",
      "metadata": {
        "id": "0966d956-300b-45c3-824f-38e7ac2742f1"
      },
      "outputs": [],
      "source": [
        "print(\"✅ Assignment 03 Summary\")\n",
        "print(\"1. Salary distributions show large variance across industries and occupations.\")\n",
        "print(\"2. Certain industries (e.g., Tech, Finance) consistently offer higher average salaries.\")\n",
        "print(\"3. Some skills are extremely in-demand (like SQL, Python), but salary premiums vary.\")\n",
        "print(\"4. High-demand skills don’t always equal high pay — strategic niche skills often pay more.\")\n",
        "print(\"5. Location matters: states like California and New York dominate high-paying postings.\")\n",
        "print(\"6. Trends over time show growth in postings for tech-heavy roles.\")\n",
        "print(\"7. Correlation analysis reveals that many postings don’t guarantee top salaries — skills and specialization drive pay.\")\n"
      ]
    }
  ],
  "metadata": {
    "kernelspec": {
      "display_name": "Python 3 (ipykernel)",
      "language": "python",
      "name": "python3"
    },
    "language_info": {
      "codemirror_mode": {
        "name": "ipython",
        "version": 3
      },
      "file_extension": ".py",
      "mimetype": "text/x-python",
      "name": "python",
      "nbconvert_exporter": "python",
      "pygments_lexer": "ipython3",
      "version": "3.10.12"
    },
    "colab": {
      "provenance": []
    }
  },
  "nbformat": 4,
  "nbformat_minor": 5
}