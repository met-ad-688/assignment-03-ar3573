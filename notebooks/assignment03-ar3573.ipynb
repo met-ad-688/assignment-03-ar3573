{
 "cells": [
  {
   "cell_type": "code",
   "execution_count": null,
   "id": "527a88b6",
   "metadata": {},
   "outputs": [],
   "source": [
    "import pandas as pd\n",
    "import numpy as np\n",
    "from pyspark.sql import SparkSession\n",
    "import plotly.express as px\n",
    "from pyspark.sql import functions as F"
   ]
  },
  {
   "cell_type": "code",
   "execution_count": null,
   "id": "3d445e1c",
   "metadata": {},
   "outputs": [],
   "source": [
    "spark = SparkSession.builder.appName('assignment03').getOrCreate()\n",
    "df = spark.read.csv('data/lightcast_job_postings.csv', header=True, inferSchema=True)\n",
    "df.show(5)"
   ]
  },
  {
   "cell_type": "code",
   "execution_count": null,
   "id": "e54bcd58-f9fa-418c-a07d-62bb8e7b8b83",
   "metadata": {},
   "outputs": [],
   "source": [
    "# Clean salary columns and compute medians\n",
    "from pyspark.sql import functions as F\n",
    "\n",
    "df2 = df.withColumn(\"SALARY_FROM\", F.col(\"SALARY_FROM\").cast(\"double\")) \\\n",
    "        .withColumn(\"SALARY_TO\", F.col(\"SALARY_TO\").cast(\"double\"))\n",
    "\n",
    "df2 = df2.withColumn(\"Average_Salary\", (F.col(\"SALARY_FROM\") + F.col(\"SALARY_TO\"))/2)\n",
    "\n",
    "median_from = df2.approxQuantile(\"SALARY_FROM\", [0.5], 0.01)[0]\n",
    "median_to   = df2.approxQuantile(\"SALARY_TO\", [0.5], 0.01)[0]\n",
    "median_avg  = df2.approxQuantile(\"Average_Salary\", [0.5], 0.01)[0]\n",
    "\n",
    "print(\"Median From:\", median_from)\n",
    "print(\"Median To:\", median_to)\n",
    "print(\"Median Avg:\", median_avg)\n",
    "print(\"Row count:\", df2.count())\n"
   ]
  },
  {
   "cell_type": "code",
   "execution_count": null,
   "id": "304cfa26-bf4d-4af7-8197-1b2e6d3ce47a",
   "metadata": {},
   "outputs": [],
   "source": [
    "# Clean education levels (remove newlines etc.)\n",
    "df2 = df2.withColumn(\"EDUCATION_LEVELS_NAME\", F.regexp_replace(\"EDUCATION_LEVELS_NAME\", \"[\\n\\r]\", \"\"))\n",
    "df2.select(\"EDUCATION_LEVELS_NAME\").distinct().show(20, truncate=False)\n"
   ]
  },
  {
   "cell_type": "code",
   "execution_count": null,
   "id": "949d1228-501f-4f89-8bf8-38a03722e914",
   "metadata": {},
   "outputs": [],
   "source": [
    "# Average salary by industry\n",
    "industry_avg = df2.groupBy(\"INDUSTRY_NAME\").agg(F.avg(\"Average_Salary\").alias(\"avg_salary\"))\n",
    "industry_pd = industry_avg.toPandas().sort_values(\"avg_salary\", ascending=False).head(15)\n",
    "\n",
    "import plotly.express as px\n",
    "fig = px.bar(industry_pd, x=\"INDUSTRY_NAME\", y=\"avg_salary\",\n",
    "             title=\"Top 15 Industries by Average Salary\")\n",
    "fig.show()\n"
   ]
  },
  {
   "cell_type": "code",
   "execution_count": null,
   "id": "d6c5c910-26ce-4f2c-af24-fca0aa23e76d",
   "metadata": {},
   "outputs": [],
   "source": [
    "# Average salary by education level\n",
    "edu_avg = df2.groupBy(\"EDUCATION_LEVELS_NAME\").agg(F.avg(\"Average_Salary\").alias(\"avg_salary\"))\n",
    "edu_pd = edu_avg.toPandas().sort_values(\"avg_salary\", ascending=False)\n",
    "\n",
    "fig = px.bar(edu_pd, x=\"EDUCATION_LEVELS_NAME\", y=\"avg_salary\",\n",
    "             title=\"Average Salary by Education Level\")\n",
    "fig.show()\n"
   ]
  },
  {
   "cell_type": "code",
   "execution_count": null,
   "id": "ad1d3e5b-3358-4a46-bc31-fa71038286b8",
   "metadata": {},
   "outputs": [],
   "source": [
    "# Average salary by occupation\n",
    "occupation_avg = df2.groupBy(\"OCCUPATION_NAME\").agg(F.avg(\"Average_Salary\").alias(\"avg_salary\"))\n",
    "occupation_pd = occupation_avg.toPandas().sort_values(\"avg_salary\", ascending=False).head(15)\n",
    "\n",
    "fig = px.bar(occupation_pd, x=\"OCCUPATION_NAME\", y=\"avg_salary\",\n",
    "             title=\"Top 15 Occupations by Average Salary\")\n",
    "fig.show()\n"
   ]
  },
  {
   "cell_type": "code",
   "execution_count": null,
   "id": "97267747-ada2-416b-9d55-3ecc7c056553",
   "metadata": {},
   "outputs": [],
   "source": [
    "# Convert POSTED_DATE to proper date\n",
    "df3 = df2.withColumn(\"POSTED_DATE\", F.to_date(\"POSTED_DATE\", \"yyyy-MM-dd\"))\n",
    "\n",
    "# Count postings per month\n",
    "trend = df3.groupBy(F.date_format(\"POSTED_DATE\", \"yyyy-MM\").alias(\"month\")) \\\n",
    "           .count() \\\n",
    "           .orderBy(\"month\")\n",
    "\n",
    "trend_pd = trend.toPandas()\n",
    "\n",
    "fig = px.line(trend_pd, x=\"month\", y=\"count\",\n",
    "              title=\"Job Postings Trend Over Time\",\n",
    "              labels={\"month\": \"Month\", \"count\": \"Number of Postings\"})\n",
    "fig.update_xaxes(type='category')  # keep months readable\n",
    "fig.show()\n"
   ]
  },
  {
   "cell_type": "code",
   "execution_count": null,
   "id": "1d2bcdb3-e48c-4519-b430-9b57a494cd4e",
   "metadata": {},
   "outputs": [],
   "source": [
    "# Top job titles by count\n",
    "title_counts = df2.groupBy(\"JOB_TITLE\").count().orderBy(F.desc(\"count\")).limit(15)\n",
    "title_pd = title_counts.toPandas()\n",
    "\n",
    "fig = px.bar(title_pd, x=\"JOB_TITLE\", y=\"count\",\n",
    "             title=\"Top 15 Job Titles by Frequency\")\n",
    "fig.show()\n"
   ]
  },
  {
   "cell_type": "code",
   "execution_count": null,
   "id": "54c6d1f2-64b8-4f2c-84c9-85755c64a057",
   "metadata": {},
   "outputs": [],
   "source": [
    "# Top 15 States by job posting count\n",
    "state_counts = df2.groupBy(\"STATE\").count().orderBy(F.desc(\"count\")).limit(15)\n",
    "state_pd = state_counts.toPandas()\n",
    "\n",
    "fig = px.bar(state_pd, x=\"STATE\", y=\"count\",\n",
    "             title=\"Top 15 States by Job Postings\")\n",
    "fig.show()\n"
   ]
  },
  {
   "cell_type": "code",
   "execution_count": null,
   "id": "d2e3fb07-5da4-4fbb-b567-cf7715e01a8c",
   "metadata": {},
   "outputs": [],
   "source": [
    "# Top 15 Cities by job posting count\n",
    "city_counts = df2.groupBy(\"CITY\").count().orderBy(F.desc(\"count\")).limit(15)\n",
    "city_pd = city_counts.toPandas()\n",
    "\n",
    "fig = px.bar(city_pd, x=\"CITY\", y=\"count\",\n",
    "             title=\"Top 15 Cities by Job Postings\")\n",
    "fig.show()\n"
   ]
  },
  {
   "cell_type": "code",
   "execution_count": null,
   "id": "f7e044e7-f721-424c-b70a-82e4502a4b1d",
   "metadata": {},
   "outputs": [],
   "source": [
    "# Top 20 most common skills in postings\n",
    "skill_counts = df2.groupBy(\"SKILL_NAME\").count().orderBy(F.desc(\"count\")).limit(20)\n",
    "skill_pd = skill_counts.toPandas()\n",
    "\n",
    "fig = px.bar(skill_pd, x=\"SKILL_NAME\", y=\"count\",\n",
    "             title=\"Top 20 Skills by Frequency\")\n",
    "fig.show()\n"
   ]
  },
  {
   "cell_type": "code",
   "execution_count": null,
   "id": "43c018a9-fb06-4feb-8e8a-0659c658ee01",
   "metadata": {},
   "outputs": [],
   "source": [
    "# Average salary by skill (filter out nulls)\n",
    "skill_salary = df2.groupBy(\"SKILL_NAME\").agg(F.avg(\"SALARY\").alias(\"avg_salary\")) \\\n",
    "                 .orderBy(F.desc(\"avg_salary\")).limit(15)\n",
    "skill_salary_pd = skill_salary.toPandas()\n",
    "\n",
    "fig = px.bar(skill_salary_pd, x=\"SKILL_NAME\", y=\"avg_salary\",\n",
    "             title=\"Top 15 Skills by Average Salary\")\n",
    "fig.show()\n"
   ]
  },
  {
   "cell_type": "code",
   "execution_count": null,
   "id": "1ce69536-68b4-4919-ab9e-dd71c8ecdbb5",
   "metadata": {},
   "outputs": [],
   "source": [
    "# Group by occupation: count of postings and average salary\n",
    "occ_stats = df2.groupBy(\"OCCUPATION\").agg(\n",
    "    F.count(\"*\").alias(\"posting_count\"),\n",
    "    F.avg(\"SALARY\").alias(\"avg_salary\")\n",
    ").orderBy(F.desc(\"posting_count\")).limit(20)\n",
    "\n",
    "occ_stats_pd = occ_stats.toPandas()\n",
    "\n",
    "fig = px.scatter(occ_stats_pd, x=\"posting_count\", y=\"avg_salary\", text=\"OCCUPATION\",\n",
    "                 title=\"Postings vs. Average Salary (Top 20 Occupations)\",\n",
    "                 labels={\"posting_count\": \"Number of Postings\", \"avg_salary\": \"Average Salary\"})\n",
    "fig.update_traces(textposition=\"top center\")\n",
    "fig.show()\n"
   ]
  },
  {
   "cell_type": "code",
   "execution_count": null,
   "id": "fb90ab92-32f4-4933-b971-1aa0faa2839c",
   "metadata": {},
   "outputs": [],
   "source": [
    "# Count + average salary for skills\n",
    "skill_stats = df2.groupBy(\"SKILL_NAME\").agg(\n",
    "    F.count(\"*\").alias(\"posting_count\"),\n",
    "    F.avg(\"SALARY\").alias(\"avg_salary\")\n",
    ").orderBy(F.desc(\"posting_count\")).limit(30)\n",
    "\n",
    "skill_stats_pd = skill_stats.toPandas()\n",
    "\n",
    "fig = px.scatter(skill_stats_pd, x=\"posting_count\", y=\"avg_salary\", text=\"SKILL_NAME\",\n",
    "                 title=\"Skill Demand vs. Salary (Top 30 Skills)\",\n",
    "                 labels={\"posting_count\": \"Number of Postings\", \"avg_salary\": \"Average Salary\"})\n",
    "fig.update_traces(textposition=\"top center\")\n",
    "fig.show()\n"
   ]
  },
  {
   "cell_type": "code",
   "execution_count": null,
   "id": "0966d956-300b-45c3-824f-38e7ac2742f1",
   "metadata": {},
   "outputs": [],
   "source": [
    "print(\"✅ Assignment 03 Summary\")\n",
    "print(\"1. Salary distributions show large variance across industries and occupations.\")\n",
    "print(\"2. Certain industries (e.g., Tech, Finance) consistently offer higher average salaries.\")\n",
    "print(\"3. Some skills are extremely in-demand (like SQL, Python), but salary premiums vary.\")\n",
    "print(\"4. High-demand skills don’t always equal high pay — strategic niche skills often pay more.\")\n",
    "print(\"5. Location matters: states like California and New York dominate high-paying postings.\")\n",
    "print(\"6. Trends over time show growth in postings for tech-heavy roles.\")\n",
    "print(\"7. Correlation analysis reveals that many postings don’t guarantee top salaries — skills and specialization drive pay.\")\n"
   ]
  }
 ],
 "metadata": {
  "kernelspec": {
   "display_name": "Python 3 (ipykernel)",
   "language": "python",
   "name": "python3"
  },
  "language_info": {
   "codemirror_mode": {
    "name": "ipython",
    "version": 3
   },
   "file_extension": ".py",
   "mimetype": "text/x-python",
   "name": "python",
   "nbconvert_exporter": "python",
   "pygments_lexer": "ipython3",
   "version": "3.10.12"
  }
 },
 "nbformat": 4,
 "nbformat_minor": 5
}
