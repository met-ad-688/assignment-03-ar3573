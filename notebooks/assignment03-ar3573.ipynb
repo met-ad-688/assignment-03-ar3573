{
 "cells": [
  {
   "cell_type": "code",
   "execution_count": null,
   "id": "527a88b6",
   "metadata": {},
   "outputs": [],
   "source": [
    "import pandas as pd\n",
    "import numpy as np\n",
    "from pyspark.sql import SparkSession\n",
    "import plotly.express as px\n",
    "from pyspark.sql import functions as F"
   ]
  },
  {
   "cell_type": "code",
   "execution_count": null,
   "id": "3d445e1c",
   "metadata": {},
   "outputs": [],
   "source": [
    "spark = SparkSession.builder.appName('assignment03').getOrCreate()\n",
    "df = spark.read.csv('data/lightcast_job_postings.csv', header=True, inferSchema=True)\n",
    "df.show(5)"
   ]
  },
  {
   "cell_type": "code",
   "execution_count": null,
   "id": "e54bcd58-f9fa-418c-a07d-62bb8e7b8b83",
   "metadata": {},
   "outputs": [],
   "source": [
    "# Clean salary columns and compute medians\n",
    "from pyspark.sql import functions as F\n",
    "\n",
    "df2 = df.withColumn(\"SALARY_FROM\", F.col(\"SALARY_FROM\").cast(\"double\")) \\\n",
    "        .withColumn(\"SALARY_TO\", F.col(\"SALARY_TO\").cast(\"double\"))\n",
    "\n",
    "df2 = df2.withColumn(\"Average_Salary\", (F.col(\"SALARY_FROM\") + F.col(\"SALARY_TO\"))/2)\n",
    "\n",
    "median_from = df2.approxQuantile(\"SALARY_FROM\", [0.5], 0.01)[0]\n",
    "median_to   = df2.approxQuantile(\"SALARY_TO\", [0.5], 0.01)[0]\n",
    "median_avg  = df2.approxQuantile(\"Average_Salary\", [0.5], 0.01)[0]\n",
    "\n",
    "print(\"Median From:\", median_from)\n",
    "print(\"Median To:\", median_to)\n",
    "print(\"Median Avg:\", median_avg)\n",
    "print(\"Row count:\", df2.count())\n"
   ]
  },
  {
   "cell_type": "code",
   "execution_count": null,
   "id": "304cfa26-bf4d-4af7-8197-1b2e6d3ce47a",
   "metadata": {},
   "outputs": [],
   "source": [
    "# Clean education levels (remove newlines etc.)\n",
    "df2 = df2.withColumn(\"EDUCATION_LEVELS_NAME\", F.regexp_replace(\"EDUCATION_LEVELS_NAME\", \"[\\n\\r]\", \"\"))\n",
    "df2.select(\"EDUCATION_LEVELS_NAME\").distinct().show(20, truncate=False)\n"
   ]
  },
  {
   "cell_type": "code",
   "execution_count": null,
   "id": "949d1228-501f-4f89-8bf8-38a03722e914",
   "metadata": {},
   "outputs": [],
   "source": [
    "# Average salary by industry\n",
    "industry_avg = df2.groupBy(\"INDUSTRY_NAME\").agg(F.avg(\"Average_Salary\").alias(\"avg_salary\"))\n",
    "industry_pd = industry_avg.toPandas().sort_values(\"avg_salary\", ascending=False).head(15)\n",
    "\n",
    "import plotly.express as px\n",
    "fig = px.bar(industry_pd, x=\"INDUSTRY_NAME\", y=\"avg_salary\",\n",
    "             title=\"Top 15 Industries by Average Salary\")\n",
    "fig.show()\n"
   ]
  },
  {
   "cell_type": "code",
   "execution_count": null,
   "id": "d6c5c910-26ce-4f2c-af24-fca0aa23e76d",
   "metadata": {},
   "outputs": [],
   "source": []
  }
 ],
 "metadata": {
  "kernelspec": {
   "display_name": "Python 3 (ipykernel)",
   "language": "python",
   "name": "python3"
  },
  "language_info": {
   "codemirror_mode": {
    "name": "ipython",
    "version": 3
   },
   "file_extension": ".py",
   "mimetype": "text/x-python",
   "name": "python",
   "nbconvert_exporter": "python",
   "pygments_lexer": "ipython3",
   "version": "3.10.12"
  }
 },
 "nbformat": 4,
 "nbformat_minor": 5
}
